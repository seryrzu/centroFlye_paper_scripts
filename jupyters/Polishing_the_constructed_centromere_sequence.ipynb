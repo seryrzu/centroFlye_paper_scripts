{
 "cells": [
  {
   "cell_type": "code",
   "execution_count": 1,
   "metadata": {},
   "outputs": [],
   "source": [
    "import sys\n",
    "sys.path.append('../centroFlye_repo/scripts')\n",
    "\n",
    "import matplotlib\n",
    "%matplotlib inline \n",
    "import matplotlib.pyplot as plt\n",
    "from matplotlib.ticker import MaxNLocator\n",
    "\n",
    "from collections import defaultdict, Counter\n",
    "\n",
    "from utils.bio import read_bio_seq, compress_homopolymer\n",
    "from ncrf_parser import NCRF_Report\n",
    "\n",
    "import edlib"
   ]
  },
  {
   "cell_type": "code",
   "execution_count": 2,
   "metadata": {},
   "outputs": [],
   "source": [
    "plt.rcParams['figure.figsize'] = [10, 8]\n"
   ]
  },
  {
   "cell_type": "markdown",
   "metadata": {},
   "source": [
    "# Various numbers from the text"
   ]
  },
  {
   "cell_type": "code",
   "execution_count": 3,
   "metadata": {},
   "outputs": [],
   "source": [
    "polished_sequence_fn = \\\n",
    "\"../data/centroFlye_results/polishing1/final_sequence_4.fasta\"\n"
   ]
  },
  {
   "cell_type": "code",
   "execution_count": 4,
   "metadata": {},
   "outputs": [],
   "source": [
    "polished_sequence = read_bio_seq(polished_sequence_fn)\n",
    "hpc_polished_sequence = compress_homopolymer(polished_sequence)"
   ]
  },
  {
   "cell_type": "code",
   "execution_count": null,
   "metadata": {},
   "outputs": [],
   "source": [
    "!python ../centroFlye_repo/scripts/run_ncrf_parallel.py \\\n",
    "    --reads {polished_sequence_fn} \\\n",
    "    -t 1 \\\n",
    "    --outdir ../data/centroFlye_results/polishing1/NCRF_star \\\n",
    "    --repeat ../data/centroFlye_results/DXZ1_star/DXZ1_rc_star.fasta\n"
   ]
  },
  {
   "cell_type": "code",
   "execution_count": null,
   "metadata": {},
   "outputs": [],
   "source": [
    "genomic_nrcf = \\\n",
    "\"../data/centroFlye_results/polishing1/NCRF_star/report.ncrf\"\n",
    "ncrf_genome_report = NCRF_Report(genomic_nrcf)\n"
   ]
  },
  {
   "cell_type": "markdown",
   "metadata": {},
   "source": [
    "Length of polished sequence"
   ]
  },
  {
   "cell_type": "code",
   "execution_count": null,
   "metadata": {},
   "outputs": [],
   "source": [
    "len(polished_sequence)"
   ]
  },
  {
   "cell_type": "markdown",
   "metadata": {},
   "source": [
    "Number of units"
   ]
  },
  {
   "cell_type": "code",
   "execution_count": null,
   "metadata": {},
   "outputs": [],
   "source": [
    "len(ncrf_genome_report.get_motif_alignments()['polished_repeat_4'])"
   ]
  },
  {
   "cell_type": "code",
   "execution_count": null,
   "metadata": {},
   "outputs": [],
   "source": [
    "def get_unique_kmers(seq, k=19):\n",
    "    kmers_distr = Counter(seq[i:i+k] for i in range(len(seq)-k+1))\n",
    "    unique_kmers = [k for k, v in kmers_distr.items() if v == 1]\n",
    "    return unique_kmers"
   ]
  },
  {
   "cell_type": "markdown",
   "metadata": {},
   "source": [
    "Number of unique kmers"
   ]
  },
  {
   "cell_type": "code",
   "execution_count": null,
   "metadata": {},
   "outputs": [],
   "source": [
    "unique_kmers = get_unique_kmers(polished_sequence)\n",
    "unique_kmers_hpc = get_unique_kmers(hpc_polished_sequence)\n",
    "len(unique_kmers), len(unique_kmers_hpc)"
   ]
  },
  {
   "cell_type": "markdown",
   "metadata": {},
   "source": [
    "Positions of unique kmers"
   ]
  },
  {
   "cell_type": "code",
   "execution_count": null,
   "metadata": {},
   "outputs": [],
   "source": [
    "def get_kmer_positions(seq, k=19):\n",
    "    pos = defaultdict(list)\n",
    "    for i in range(len(seq) - k + 1):\n",
    "        kmer = seq[i:i+k]\n",
    "        pos[kmer].append(i)\n",
    "    return pos"
   ]
  },
  {
   "cell_type": "code",
   "execution_count": null,
   "metadata": {},
   "outputs": [],
   "source": [
    "kmer_pos = get_kmer_positions(polished_sequence)\n",
    "hpc_kmer_pos = get_kmer_positions(hpc_polished_sequence)\n",
    "\n",
    "unique_kmer_pos = [kmer_pos[kmer][0] for kmer in unique_kmers]\n",
    "unique_hpc_kmer_pos = [hpc_kmer_pos[kmer][0] for kmer in unique_kmers_hpc]\n"
   ]
  },
  {
   "cell_type": "code",
   "execution_count": null,
   "metadata": {},
   "outputs": [],
   "source": [
    "length_in_bin = 20000"
   ]
  },
  {
   "cell_type": "markdown",
   "metadata": {},
   "source": [
    "# Figure 3, Top right"
   ]
  },
  {
   "cell_type": "code",
   "execution_count": null,
   "metadata": {},
   "outputs": [],
   "source": [
    "k = 19\n",
    "bins = int(len(polished_sequence) / length_in_bin)\n",
    "plt.hist(unique_kmer_pos, bins=bins)\n",
    "plt.xlabel('Positions in the cenX', fontsize=18)\n",
    "plt.ylabel(f'Count of unique {k}-mers', fontsize=18)\n",
    "plt.title(f'Distribution of unique {k}-mers in cenX sequence', fontsize=22)\n",
    "plt.xticks(fontsize=16)\n",
    "plt.yticks(fontsize=16)\n",
    "pass"
   ]
  },
  {
   "cell_type": "code",
   "execution_count": null,
   "metadata": {
    "scrolled": false
   },
   "outputs": [],
   "source": [
    "bins = int(len(hpc_polished_sequence) / length_in_bin)\n",
    "plt.hist(unique_hpc_kmer_pos, bins=bins)\n",
    "plt.xlabel('Positions in the compressed cenX', fontsize=18)\n",
    "plt.ylabel(f'Count of unique {k}-mers', fontsize=18)\n",
    "# plt.title(f'Distribution of unique {k}-mers in compressed cenX sequence', fontsize=22)\n",
    "plt.xticks(fontsize=16)\n",
    "plt.yticks(fontsize=16)\n",
    "pass"
   ]
  },
  {
   "cell_type": "markdown",
   "metadata": {},
   "source": [
    "Position of (compressed) LINE in compressed cenX"
   ]
  },
  {
   "cell_type": "code",
   "execution_count": null,
   "metadata": {
    "scrolled": false
   },
   "outputs": [],
   "source": [
    "LINE_fn = \"../data/LINE/GU477636.1_LINE-1.fasta\"\n",
    "LINE = read_bio_seq(LINE_fn)\n",
    "LINE_hpc = compress_homopolymer(LINE)\n",
    "LINE_alignment = edlib.align(LINE_hpc, hpc_polished_sequence, mode='HW', task='locations')\n",
    "print(LINE_alignment)\n",
    "print(LINE_alignment['locations'][0][1] - LINE_alignment['locations'][0][0])"
   ]
  },
  {
   "cell_type": "code",
   "execution_count": null,
   "metadata": {
    "scrolled": true
   },
   "outputs": [],
   "source": [
    "len(LINE), len(LINE_hpc)"
   ]
  },
  {
   "cell_type": "code",
   "execution_count": null,
   "metadata": {},
   "outputs": [],
   "source": []
  }
 ],
 "metadata": {
  "kernelspec": {
   "display_name": "Python 3",
   "language": "python",
   "name": "python3"
  },
  "language_info": {
   "codemirror_mode": {
    "name": "ipython",
    "version": 3
   },
   "file_extension": ".py",
   "mimetype": "text/x-python",
   "name": "python",
   "nbconvert_exporter": "python",
   "pygments_lexer": "ipython3",
   "version": "3.6.7"
  }
 },
 "nbformat": 4,
 "nbformat_minor": 2
}
