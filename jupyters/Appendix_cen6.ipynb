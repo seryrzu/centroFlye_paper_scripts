{
 "cells": [
  {
   "cell_type": "code",
   "execution_count": 1,
   "metadata": {},
   "outputs": [],
   "source": [
    "import sys\n",
    "import os\n",
    "sys.path.append('..')\n",
    "import edlib\n",
    "import numpy as np\n",
    "import pandas as pd\n",
    "from collections import Counter, defaultdict\n",
    "import operator\n",
    "from string import ascii_uppercase\n",
    "from itertools import groupby\n",
    "from copy import deepcopy\n",
    "import bisect\n",
    "\n",
    "import matplotlib\n",
    "%matplotlib inline \n",
    "import matplotlib.pyplot as plt\n",
    "from matplotlib.ticker import MaxNLocator\n",
    "\n",
    "from ndex2.nice_cx_network import NiceCXNetwork\n",
    "import ndex2.client as nc\n",
    "import ndex2\n",
    "\n",
    "%load_ext autoreload\n",
    "%autoreload 2"
   ]
  },
  {
   "cell_type": "markdown",
   "metadata": {},
   "source": [
    "# Recruitment of centromeric reads from cen6"
   ]
  },
  {
   "cell_type": "code",
   "execution_count": 2,
   "metadata": {},
   "outputs": [
    {
     "name": "stdout",
     "output_type": "stream",
     "text": [
      "The autoreload extension is already loaded. To reload it, use:\n",
      "  %reload_ext autoreload\n"
     ]
    }
   ],
   "source": [
    "import pandas as pd\n",
    "import numpy as np\n",
    "import bisect\n",
    "\n",
    "%load_ext autoreload\n",
    "%autoreload 2"
   ]
  },
  {
   "cell_type": "code",
   "execution_count": 3,
   "metadata": {},
   "outputs": [],
   "source": [
    "fasta_index_fn = \"../data/rel3/rel3.fastq.gz.fai\""
   ]
  },
  {
   "cell_type": "code",
   "execution_count": 4,
   "metadata": {},
   "outputs": [],
   "source": [
    "fasta_index = pd.read_csv(fasta_index_fn,\n",
    "                          sep='\\t',\n",
    "                          names=[\"NAME\", \"LENGTH\", \"OFFSET\", \"LINEBASES\", \"LINEWIDTH\", \"QUALOFFSET\"])"
   ]
  },
  {
   "cell_type": "code",
   "execution_count": 5,
   "metadata": {},
   "outputs": [
    {
     "data": {
      "text/plain": [
       "(28449385, 6)"
      ]
     },
     "execution_count": 5,
     "metadata": {},
     "output_type": "execute_result"
    }
   ],
   "source": [
    "fasta_index.shape"
   ]
  },
  {
   "cell_type": "markdown",
   "metadata": {},
   "source": [
    "Total length"
   ]
  },
  {
   "cell_type": "code",
   "execution_count": 6,
   "metadata": {},
   "outputs": [
    {
     "name": "stdout",
     "output_type": "stream",
     "text": [
      "367.2312828 118.461704129\n"
     ]
    }
   ],
   "source": [
    "total_length = np.sum(fasta_index.LENGTH)\n",
    "genome_len = 3.1 * 10**9\n",
    "total_coverage = total_length / genome_len\n",
    "print(total_length / 10**9, total_coverage)"
   ]
  },
  {
   "cell_type": "markdown",
   "metadata": {},
   "source": [
    "N50:"
   ]
  },
  {
   "cell_type": "code",
   "execution_count": 7,
   "metadata": {
    "scrolled": true
   },
   "outputs": [
    {
     "data": {
      "text/plain": [
       "52930"
      ]
     },
     "execution_count": 7,
     "metadata": {},
     "output_type": "execute_result"
    }
   ],
   "source": [
    "sorted_lengths = np.sort(fasta_index.LENGTH)[::-1]\n",
    "n50_index = bisect.bisect_left(np.cumsum(sorted_lengths), total_length / 2)\n",
    "sorted_lengths[n50_index]"
   ]
  },
  {
   "cell_type": "code",
   "execution_count": 8,
   "metadata": {},
   "outputs": [],
   "source": [
    "max_short_len = 5000"
   ]
  },
  {
   "cell_type": "markdown",
   "metadata": {},
   "source": [
    "\n",
    "\n",
    "Number of short reads\n"
   ]
  },
  {
   "cell_type": "code",
   "execution_count": 9,
   "metadata": {},
   "outputs": [
    {
     "data": {
      "text/plain": [
       "19283008"
      ]
     },
     "execution_count": 9,
     "metadata": {},
     "output_type": "execute_result"
    }
   ],
   "source": [
    "short_reads_index = fasta_index.LENGTH < max_short_len\n",
    "np.sum(short_reads_index)"
   ]
  },
  {
   "cell_type": "markdown",
   "metadata": {},
   "source": [
    "\n",
    "\n",
    "Coverage of human genome with short reads:\n"
   ]
  },
  {
   "cell_type": "code",
   "execution_count": 10,
   "metadata": {},
   "outputs": [
    {
     "data": {
      "text/plain": [
       "5.7382193370967745"
      ]
     },
     "execution_count": 10,
     "metadata": {},
     "output_type": "execute_result"
    }
   ],
   "source": [
    "total_short_read_len = np.sum(fasta_index.LENGTH[short_reads_index])\n",
    "total_short_read_len / genome_len"
   ]
  },
  {
   "cell_type": "markdown",
   "metadata": {},
   "source": [
    "Min long len"
   ]
  },
  {
   "cell_type": "code",
   "execution_count": 11,
   "metadata": {},
   "outputs": [],
   "source": [
    "min_long_len = 50000"
   ]
  },
  {
   "cell_type": "markdown",
   "metadata": {},
   "source": [
    "\n",
    "\n",
    "Number of long reads\n"
   ]
  },
  {
   "cell_type": "code",
   "execution_count": 12,
   "metadata": {},
   "outputs": [
    {
     "data": {
      "text/plain": [
       "1999007"
      ]
     },
     "execution_count": 12,
     "metadata": {},
     "output_type": "execute_result"
    }
   ],
   "source": [
    "long_reads_index = fasta_index.LENGTH > min_long_len\n",
    "np.sum(long_reads_index)"
   ]
  },
  {
   "cell_type": "markdown",
   "metadata": {},
   "source": [
    "Total length of long reads and coverage of human genome with long reads:"
   ]
  },
  {
   "cell_type": "code",
   "execution_count": 13,
   "metadata": {},
   "outputs": [
    {
     "data": {
      "text/plain": [
       "(192.61815650599999, 62.134889195483872)"
      ]
     },
     "execution_count": 13,
     "metadata": {},
     "output_type": "execute_result"
    }
   ],
   "source": [
    "total_long_read_len = np.sum(fasta_index.LENGTH[long_reads_index])\n",
    "total_long_read_len / 10**9, total_long_read_len / genome_len"
   ]
  },
  {
   "cell_type": "code",
   "execution_count": 14,
   "metadata": {},
   "outputs": [],
   "source": [
    "%reset -f "
   ]
  },
  {
   "cell_type": "markdown",
   "metadata": {},
   "source": [
    "Second paragraph"
   ]
  },
  {
   "cell_type": "code",
   "execution_count": 15,
   "metadata": {},
   "outputs": [],
   "source": [
    "import os\n",
    "import pandas as pd\n",
    "import numpy as np"
   ]
  },
  {
   "cell_type": "code",
   "execution_count": 16,
   "metadata": {},
   "outputs": [],
   "source": [
    "centromeric_reads_dir = \"../data/centroFlyeMono_results_cen6/centromeric_reads\"\n",
    "\n",
    "! faidx {centromeric_reads_dir}/centromeric_reads.fasta > /dev/null\n",
    "\n"
   ]
  },
  {
   "cell_type": "code",
   "execution_count": 17,
   "metadata": {},
   "outputs": [],
   "source": [
    "centromeric_reads_index_fn = \\\n",
    "    os.path.join(centromeric_reads_dir, 'centromeric_reads.fasta.fai')\n",
    "centromeric_reads_index = pd.read_csv(centromeric_reads_index_fn,\n",
    "                                     sep='\\t',\n",
    "                                     names=[\"NAME\", \"LENGTH\", \"OFFSET\", \"LINEBASES\", \"LINEWIDTH\", \"QUALOFFSET\"])"
   ]
  },
  {
   "cell_type": "code",
   "execution_count": 18,
   "metadata": {},
   "outputs": [
    {
     "data": {
      "text/plain": [
       "6558"
      ]
     },
     "execution_count": 18,
     "metadata": {},
     "output_type": "execute_result"
    }
   ],
   "source": [
    "nreads = centromeric_reads_index.shape[0]\n",
    "nreads"
   ]
  },
  {
   "cell_type": "code",
   "execution_count": 19,
   "metadata": {},
   "outputs": [
    {
     "data": {
      "text/plain": [
       "267720128"
      ]
     },
     "execution_count": 19,
     "metadata": {},
     "output_type": "execute_result"
    }
   ],
   "source": [
    "np.sum(centromeric_reads_index.LENGTH)"
   ]
  },
  {
   "cell_type": "code",
   "execution_count": 20,
   "metadata": {},
   "outputs": [
    {
     "name": "stdout",
     "output_type": "stream",
     "text": [
      "1621 530278\n"
     ]
    }
   ],
   "source": [
    "long_len = 50000\n",
    "\n",
    "nlong = np.sum(centromeric_reads_index.LENGTH > long_len)\n",
    "\n",
    "longest_len = np.max(centromeric_reads_index.LENGTH)\n",
    "print(nlong, longest_len)"
   ]
  },
  {
   "cell_type": "code",
   "execution_count": 21,
   "metadata": {},
   "outputs": [],
   "source": [
    "%reset -f"
   ]
  },
  {
   "cell_type": "markdown",
   "metadata": {},
   "source": [
    "# Transforming reads into monoreads"
   ]
  },
  {
   "cell_type": "code",
   "execution_count": 22,
   "metadata": {},
   "outputs": [
    {
     "name": "stdout",
     "output_type": "stream",
     "text": [
      "The autoreload extension is already loaded. To reload it, use:\n",
      "  %reload_ext autoreload\n"
     ]
    }
   ],
   "source": [
    "import sys\n",
    "sys.path.append('../centroFlye_repo/scripts')\n",
    "\n",
    "import networkx as nx\n",
    "import numpy as np\n",
    "import subprocess\n",
    "\n",
    "from debruijn_graph import DeBruijnGraph, get_frequent_kmers\n",
    "from sd_parser import SD_Report, get_stats\n",
    "from mono_error_correction import error_correction\n",
    "from utils.bio import read_bio_seqs\n",
    "\n",
    "%load_ext autoreload\n",
    "%autoreload 2"
   ]
  },
  {
   "cell_type": "code",
   "execution_count": 23,
   "metadata": {
    "scrolled": true
   },
   "outputs": [],
   "source": [
    "sd_report_fn = '../data/centroFlyeMono_results_cen6/string_decomposer_report/decomposition.tsv'\n",
    "monomers_fn = '../data/D6Z1/D6Z1_monomers.fasta'\n",
    "\n",
    "sd_report = SD_Report(SD_report_fn=sd_report_fn, monomers_fn=monomers_fn)"
   ]
  },
  {
   "cell_type": "code",
   "execution_count": 24,
   "metadata": {},
   "outputs": [
    {
     "name": "stdout",
     "output_type": "stream",
     "text": [
      "Number of translations: 6558\n",
      "Min length = 17\n",
      "Mean length = 238.32464165904238\n",
      "Max length = 3195\n",
      "Total length = 1562933\n",
      "#(%) Gap symbols = 34303 (0.021947837815184657)\n",
      "#Gap runs = 7375\n"
     ]
    }
   ],
   "source": [
    "get_stats(sd_report.monostrings, verbose=True, return_stats=False)"
   ]
  },
  {
   "cell_type": "code",
   "execution_count": 25,
   "metadata": {
    "scrolled": false
   },
   "outputs": [
    {
     "name": "stdout",
     "output_type": "stream",
     "text": [
      "Stats for uncorrected reads\n",
      "Number of translations: 6558\n",
      "Min length = 17\n",
      "Mean length = 238.32464165904238\n",
      "Max length = 3195\n",
      "Total length = 1562933\n",
      "#(%) Gap symbols = 34303 (0.021947837815184657)\n",
      "#Gap runs = 7375\n",
      "\n",
      "Stats for filtered reads\n",
      "Number of translations: 6537\n",
      "Min length = 17\n",
      "Mean length = 237.9418693590332\n",
      "Max length = 3195\n",
      "Total length = 1555426\n",
      "#(%) Gap symbols = 33437 (0.02149700467910399)\n",
      "#Gap runs = 7297\n",
      "\n",
      "Stats for trimmed+filtered reads\n",
      "Number of translations: 6537\n",
      "Min length = 0\n",
      "Mean length = 235.28805262352762\n",
      "Max length = 3195\n",
      "Total length = 1538078\n",
      "#(%) Gap symbols = 20807 (0.013527922511082013)\n",
      "#Gap runs = 6190\n",
      "\n",
      "Stats for cut_gaprich_reads+trimmed+filtered reads\n",
      "# cut reads = 124\n",
      "# total cut parts = 188\n",
      "Number of translations: 6412\n",
      "Min length = 0\n",
      "Mean length = 228.91593886462883\n",
      "Max length = 2662\n",
      "Total length = 1467809\n",
      "#(%) Gap symbols = 5989 (0.004080231147240547)\n",
      "#Gap runs = 3193\n",
      "\n",
      "Stats for hor_corrected+cut_gaprich_reads+trimmed+filtered reads\n",
      "Number of translations: 6412\n",
      "Min length = 0\n",
      "Mean length = 228.91593886462883\n",
      "Max length = 2662\n",
      "Total length = 1467809\n",
      "#(%) Gap symbols = 2505 (0.0017066253170541943)\n",
      "#Gap runs = 948\n"
     ]
    }
   ],
   "source": [
    "monoreads = error_correction(sd_report.monostrings, verbose=True, inplace=False)"
   ]
  },
  {
   "cell_type": "markdown",
   "metadata": {},
   "source": [
    "HOR graph for MinMultShortKMer = 100, MinMultShortKMer = 1000"
   ]
  },
  {
   "cell_type": "code",
   "execution_count": 26,
   "metadata": {},
   "outputs": [],
   "source": [
    "def hor_graph(min_mult, k=3):\n",
    "    frequent_kmers, frequent_kmers_read_pos = get_frequent_kmers(sd_report.monostrings, k=k, min_mult=min_mult)\n",
    "    db = DeBruijnGraph(k=k)\n",
    "    db.add_kmers(frequent_kmers, coverage=frequent_kmers)\n",
    "    \n",
    "    hors, _ = db.get_contigs()\n",
    "    print(hors)\n",
    "    hor_graph = nx.MultiDiGraph()\n",
    "    for st, end, m_ind, edge_data in db.graph.edges(data=True, keys=True):\n",
    "        edge_str = edge_data['edge_kmer']\n",
    "        hor_graph.add_edge(edge_str[:k-1], edge_str[-k+1:], m_ind, label=edge_str)\n",
    "    \n",
    "    !mkdir ../data/cen6_hor_graph\n",
    "    dot_fn = f'../data/cen6_hor_graph/hor_db_{min_mult}.dot'\n",
    "    pdf_fn = f'../data/cen6_hor_graph/hor_db_{min_mult}.pdf'\n",
    "    nx.drawing.nx_pydot.write_dot(hor_graph, dot_fn)\n",
    "    !dot -Tpdf -Efontsize=10 {dot_fn} -o {pdf_fn} \n",
    "    return db"
   ]
  },
  {
   "cell_type": "code",
   "execution_count": 27,
   "metadata": {},
   "outputs": [
    {
     "name": "stdout",
     "output_type": "stream",
     "text": [
      "['ABCDE', 'ABFGHIJKLMNOPQRA', 'DEFGHIJKLMNOPQRA', 'FGHIJKLMNOPQRAB', 'FGHIJKLMNOPQRADE']\n",
      "mkdir: cannot create directory ‘../data/cen6_hor_graph’: File exists\n",
      "['FGHIJKLMNOPQRABCDE', 'FGHIJKLMNOPQRAB']\n",
      "mkdir: cannot create directory ‘../data/cen6_hor_graph’: File exists\n"
     ]
    }
   ],
   "source": [
    "hor_graph(1000)\n",
    "hor_graph(5000)\n",
    "pass"
   ]
  },
  {
   "cell_type": "markdown",
   "metadata": {},
   "source": [
    "# Constructing iterative de Bruijn graphs of monoreads"
   ]
  },
  {
   "cell_type": "code",
   "execution_count": 28,
   "metadata": {
    "scrolled": true
   },
   "outputs": [
    {
     "name": "stdout",
     "output_type": "stream",
     "text": [
      "The autoreload extension is already loaded. To reload it, use:\n",
      "  %reload_ext autoreload\n"
     ]
    }
   ],
   "source": [
    "import networkx as nx\n",
    "\n",
    "from collections import defaultdict, Counter\n",
    "from debruijn_graph import DeBruijnGraph, iterative_graph, scaffolding, read2scaffolds, cover_scaffolds_w_reads, extract_read_pseudounits, polish\n",
    "\n",
    "%load_ext autoreload\n",
    "%autoreload 2"
   ]
  },
  {
   "cell_type": "code",
   "execution_count": 29,
   "metadata": {},
   "outputs": [
    {
     "data": {
      "text/plain": [
       "(249119, 222639, 0.8937054178926537)"
      ]
     },
     "execution_count": 29,
     "metadata": {},
     "output_type": "execute_result"
    }
   ],
   "source": [
    "def statistics_gapfree_kmers(monoreads, k, gap_symb='?'):\n",
    "    cnt_all, cnt_gapfree = 0, 0\n",
    "    for monoread in monoreads.values():\n",
    "        for i in range(len(monoread)-k+1):\n",
    "            kmer = monoread[i:i+k]\n",
    "            if gap_symb not in kmer:\n",
    "                cnt_gapfree += 1\n",
    "            cnt_all += 1\n",
    "    return cnt_all, cnt_gapfree, cnt_gapfree / cnt_all\n",
    "\n",
    "statistics_gapfree_kmers(monoreads, k=400)"
   ]
  },
  {
   "cell_type": "markdown",
   "metadata": {},
   "source": [
    "# Quality assessment of cen6"
   ]
  },
  {
   "cell_type": "code",
   "execution_count": 30,
   "metadata": {},
   "outputs": [],
   "source": [
    "# ! python ../centroFlye_repo/scripts/ext/tandemQUAST/tandemquast.py \\\n",
    "#     -l cen6-0.1.3 \\\n",
    "#     -r ../data/centroFlyeMono_results_cen6/centromeric_reads/centromeric_reads.fasta \\\n",
    "#     -o ../data/centroFlyeMono_results_cen6/tandemQUAST_report \\\n",
    "#     ../data/centroFlyeMono_results_cen6/centroFlyeMono_cen6/polishing/scaffold_0/scaffold_0.fasta\n"
   ]
  },
  {
   "cell_type": "code",
   "execution_count": null,
   "metadata": {},
   "outputs": [],
   "source": []
  }
 ],
 "metadata": {
  "kernelspec": {
   "display_name": "Python 3",
   "language": "python",
   "name": "python3"
  },
  "language_info": {
   "codemirror_mode": {
    "name": "ipython",
    "version": 3
   },
   "file_extension": ".py",
   "mimetype": "text/x-python",
   "name": "python",
   "nbconvert_exporter": "python",
   "pygments_lexer": "ipython3",
   "version": "3.6.7"
  }
 },
 "nbformat": 4,
 "nbformat_minor": 2
}
