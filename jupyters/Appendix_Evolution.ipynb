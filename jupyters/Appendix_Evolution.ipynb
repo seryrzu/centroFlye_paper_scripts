{
 "cells": [
  {
   "cell_type": "code",
   "execution_count": 1,
   "metadata": {
    "scrolled": true
   },
   "outputs": [],
   "source": [
    "import sys\n",
    "sys.path.append('../centroFlye_repo/scripts')\n",
    "\n",
    "import os\n",
    "from collections import Counter, defaultdict\n",
    "import heapq\n",
    "from copy import deepcopy\n",
    "import re\n",
    "\n",
    "import networkx as nx\n",
    "import numpy as np\n",
    "import pandas as pd\n",
    "import scipy.stats as stats\n",
    "import edlib\n",
    "\n",
    "import matplotlib\n",
    "%matplotlib inline \n",
    "import matplotlib.pyplot as plt\n",
    "from matplotlib.ticker import MaxNLocator\n",
    "\n",
    "from utils.bio import read_bio_seq, write_bio_seqs, compress_homopolymer, RC\n",
    "from ncrf_parser import NCRF_Report\n",
    "\n",
    "%load_ext autoreload\n",
    "%autoreload 2"
   ]
  },
  {
   "cell_type": "code",
   "execution_count": 2,
   "metadata": {},
   "outputs": [],
   "source": [
    "plt.rcParams['figure.figsize'] = [10, 8]\n"
   ]
  },
  {
   "cell_type": "markdown",
   "metadata": {},
   "source": [
    "Getting compressed DXZ1* "
   ]
  },
  {
   "cell_type": "code",
   "execution_count": 3,
   "metadata": {},
   "outputs": [],
   "source": [
    "data_dir = \"../data\"\n",
    "centroFlye_results_dir = \"../data/centroFlye_results\""
   ]
  },
  {
   "cell_type": "code",
   "execution_count": 4,
   "metadata": {},
   "outputs": [],
   "source": [
    "dxz1_star_fn = os.path.join(centroFlye_results_dir, 'DXZ1_star', 'DXZ1_rc_star.fasta')\n",
    "dxz1_star = read_bio_seq(dxz1_star_fn)\n",
    "dxz1_star_hpc = compress_homopolymer(dxz1_star)\n",
    "dxz1_star_hpc = dxz1_star_hpc[:-1]\n",
    "\n",
    "dxz1_star_hpc_fn = os.path.join(centroFlye_results_dir, 'DXZ1_star', 'DXZ1_rc_star_hpc.fasta')\n",
    "write_bio_seqs(dxz1_star_hpc_fn, {'DXZ1*_hpc': dxz1_star_hpc})\n"
   ]
  },
  {
   "cell_type": "code",
   "execution_count": 5,
   "metadata": {},
   "outputs": [
    {
     "data": {
      "text/plain": [
       "1454"
      ]
     },
     "execution_count": 5,
     "metadata": {},
     "output_type": "execute_result"
    }
   ],
   "source": [
    "len(compress_homopolymer(dxz1_star))"
   ]
  },
  {
   "cell_type": "markdown",
   "metadata": {},
   "source": [
    "Running NCRF on the compressed assembly with compressed DXZ1*"
   ]
  },
  {
   "cell_type": "code",
   "execution_count": 6,
   "metadata": {},
   "outputs": [],
   "source": [
    "centroFlye_assembly_fn = \\\n",
    "os.path.join(centroFlye_results_dir, \"polishing1\", \"final_sequence_hpc_4.fasta\")\n"
   ]
  },
  {
   "cell_type": "code",
   "execution_count": 7,
   "metadata": {},
   "outputs": [],
   "source": [
    "centroFlye_ncrf_dir = \\\n",
    "os.path.join(centroFlye_results_dir, \"polishing1\", \"NCRF_rc_star_hpc\")\n"
   ]
  },
  {
   "cell_type": "markdown",
   "metadata": {},
   "source": [
    "The results are pre-cached, but you can rerun them with uncommenting the following code"
   ]
  },
  {
   "cell_type": "code",
   "execution_count": 8,
   "metadata": {
    "scrolled": true
   },
   "outputs": [
    {
     "name": "stdout",
     "output_type": "stream",
     "text": [
      "(1 alignment reported)\r\n"
     ]
    }
   ],
   "source": [
    "!python ../centroFlye_repo/scripts/run_ncrf_parallel.py \\\n",
    "    --reads {centroFlye_assembly_fn} \\\n",
    "    -t 1 \\\n",
    "    --outdir {centroFlye_ncrf_dir} \\\n",
    "    --repeat {dxz1_star_hpc_fn}\n"
   ]
  },
  {
   "cell_type": "code",
   "execution_count": 9,
   "metadata": {},
   "outputs": [],
   "source": [
    "centroFlye_ncrf_fn = \\\n",
    "os.path.join(centroFlye_ncrf_dir, \"report.ncrf\")\n"
   ]
  },
  {
   "cell_type": "code",
   "execution_count": 10,
   "metadata": {},
   "outputs": [],
   "source": [
    "centroFlye_ncrf = NCRF_Report(centroFlye_ncrf_fn)\n",
    "centroFlye_ncrf = list(centroFlye_ncrf.records.values())[0]\n",
    "mas = centroFlye_ncrf.get_motif_alignments()\n"
   ]
  },
  {
   "cell_type": "code",
   "execution_count": 11,
   "metadata": {
    "scrolled": true
   },
   "outputs": [
    {
     "data": {
      "text/plain": [
       "1453"
      ]
     },
     "execution_count": 11,
     "metadata": {},
     "output_type": "execute_result"
    }
   ],
   "source": [
    "len(dxz1_star_hpc)"
   ]
  },
  {
   "cell_type": "code",
   "execution_count": 12,
   "metadata": {},
   "outputs": [],
   "source": [
    "abnormal_units = \\\n",
    "[0, 117, 298, 332, 333, 334, 335, 338, 399, 544, 548, 564, 571, 576, 582, 624, 626, 640, 649, 669, 678, 697, 706, 947, 1173, 1177, 1185, 1197, 1199, 1201, 1203, 1215, 1218, 1347, 1348, 1349, 1350, 1484, 1509]\n"
   ]
  },
  {
   "cell_type": "code",
   "execution_count": 13,
   "metadata": {
    "scrolled": false
   },
   "outputs": [
    {
     "data": {
      "text/plain": [
       "1471"
      ]
     },
     "execution_count": 13,
     "metadata": {},
     "output_type": "execute_result"
    }
   ],
   "source": [
    "len(mas) - len(abnormal_units)"
   ]
  },
  {
   "cell_type": "code",
   "execution_count": 14,
   "metadata": {},
   "outputs": [],
   "source": [
    "def delete_gaps(mas, abnormal_units, remove_last=False):\n",
    "    alignments = {}\n",
    "    for i, ma in enumerate(mas):\n",
    "        if i in abnormal_units:\n",
    "            continue\n",
    "        alignment = []\n",
    "        for s1, s2 in zip(ma.r_al, ma.m_al):\n",
    "            if s2 != '-':\n",
    "                alignment.append(s1)\n",
    "        if remove_last:\n",
    "            alignment = alignment[:-1]\n",
    "        alignment = ''.join(alignment)\n",
    "        alignments[i] = alignment\n",
    "            \n",
    "    return alignments"
   ]
  },
  {
   "cell_type": "code",
   "execution_count": 15,
   "metadata": {},
   "outputs": [],
   "source": [
    "alignments = delete_gaps(mas, abnormal_units)"
   ]
  },
  {
   "cell_type": "code",
   "execution_count": 16,
   "metadata": {},
   "outputs": [],
   "source": [
    "write_bio_seqs(os.path.join(centroFlye_results_dir,\n",
    "                            \"polishing1\",\"evolution.fasta\"),\n",
    "               alignments)"
   ]
  },
  {
   "cell_type": "markdown",
   "metadata": {},
   "source": [
    "Percent identity"
   ]
  },
  {
   "cell_type": "code",
   "execution_count": 17,
   "metadata": {},
   "outputs": [],
   "source": [
    "def mapNucl2Index(nucl):\n",
    "    return {'A': 0, 'C': 1, 'G': 2, 'T': 3, '-': 4}[nucl]\n",
    "    "
   ]
  },
  {
   "cell_type": "code",
   "execution_count": 18,
   "metadata": {},
   "outputs": [],
   "source": [
    "def get_profile(alignments, alignment_len=len(dxz1_star_hpc)):\n",
    "    profile = np.zeros((alignment_len, 5), dtype=int)\n",
    "    for i, alignment in alignments.items():\n",
    "        for pos, nucl in enumerate(alignment):\n",
    "            profile[pos, mapNucl2Index(nucl)] += 1\n",
    "    return profile"
   ]
  },
  {
   "cell_type": "code",
   "execution_count": 19,
   "metadata": {
    "scrolled": true
   },
   "outputs": [],
   "source": [
    "profile = get_profile(alignments)\n",
    "perc_identity        = [profile[i][mapNucl2Index(dxz1_star_hpc[i])] / sum(profile[i])      for i in range(len(dxz1_star_hpc))]\n",
    "perc_identity_nogaps = [profile[i][mapNucl2Index(dxz1_star_hpc[i])] / sum(profile[i][:-1]) for i in range(len(dxz1_star_hpc))]\n"
   ]
  },
  {
   "cell_type": "code",
   "execution_count": 20,
   "metadata": {},
   "outputs": [
    {
     "data": {
      "text/plain": [
       "(0.98827761124338731, 0.99796057104010882)"
      ]
     },
     "execution_count": 20,
     "metadata": {},
     "output_type": "execute_result"
    }
   ],
   "source": [
    "np.mean(perc_identity), np.median(perc_identity)"
   ]
  },
  {
   "cell_type": "code",
   "execution_count": 21,
   "metadata": {},
   "outputs": [
    {
     "data": {
      "text/plain": [
       "(0.99533101903001386, 1.0)"
      ]
     },
     "execution_count": 21,
     "metadata": {},
     "output_type": "execute_result"
    }
   ],
   "source": [
    "np.mean(perc_identity_nogaps), np.median(perc_identity_nogaps)"
   ]
  },
  {
   "cell_type": "code",
   "execution_count": 22,
   "metadata": {},
   "outputs": [
    {
     "data": {
      "text/plain": [
       "(array([ 0.2,  0.3,  0.4,  0.5,  0.6,  0.7,  0.8,  0.9,  1. ,  1.1]),\n",
       " <a list of 10 Text yticklabel objects>)"
      ]
     },
     "execution_count": 22,
     "metadata": {},
     "output_type": "execute_result"
    },
    {
     "data": {
      "image/png": "[encoded data removed]",
      "text/plain": [
       "<Figure size 720x576 with 1 Axes>"
      ]
     },
     "metadata": {
      "needs_background": "light"
     },
     "output_type": "display_data"
    }
   ],
   "source": [
    "plt.plot(perc_identity)\n",
    "plt.plot(perc_identity_nogaps)\n",
    "plt.xlabel('Position', fontsize=18)\n",
    "plt.ylabel('Percent identity', fontsize=18)\n",
    "plt.legend(['Including deletions', 'Excluding deletions'], fontsize=18)\n",
    "plt.xticks(fontsize=16)\n",
    "plt.yticks(fontsize=16)       "
   ]
  },
  {
   "cell_type": "code",
   "execution_count": 23,
   "metadata": {},
   "outputs": [],
   "source": [
    "profile_gapless = profile[:, :4]"
   ]
  },
  {
   "cell_type": "markdown",
   "metadata": {},
   "source": [
    "Divergent positions"
   ]
  },
  {
   "cell_type": "code",
   "execution_count": 24,
   "metadata": {},
   "outputs": [],
   "source": [
    "min_secondary_ratio = 0.3"
   ]
  },
  {
   "cell_type": "code",
   "execution_count": 25,
   "metadata": {},
   "outputs": [],
   "source": [
    "def get_diverse_positions(profile, min_secondary_ratio=min_secondary_ratio):\n",
    "    diverse_pos = []\n",
    "    for i, profile_line in enumerate(profile):\n",
    "        sorted_profile_line = sorted(deepcopy(profile_line))\n",
    "        maj_vote_ind = 0\n",
    "        while profile_line[maj_vote_ind] != sorted_profile_line[-1]:\n",
    "            maj_vote_ind += 1\n",
    "        sec_vote_ind = 0\n",
    "        while profile_line[sec_vote_ind] != sorted_profile_line[-2]:\n",
    "            sec_vote_ind += 1\n",
    "        secondary_ratio = \\\n",
    "            sorted_profile_line[-2] / sorted_profile_line[-1]\n",
    "        \n",
    "        if secondary_ratio > min_secondary_ratio:\n",
    "            # print(filt_pos[i], sorted_profile_line[-1], sorted_profile_line[-2])\n",
    "            majority_freq = sorted_profile_line[-1] / sum(sorted_profile_line)\n",
    "            secondary_freq = sorted_profile_line[-2] / sum(sorted_profile_line)\n",
    "            diverse_pos.append((i, maj_vote_ind, sec_vote_ind, majority_freq, secondary_freq))\n",
    "        \n",
    "    return diverse_pos"
   ]
  },
  {
   "cell_type": "code",
   "execution_count": 26,
   "metadata": {},
   "outputs": [
    {
     "data": {
      "text/plain": [
       "(7,\n",
       " [(166, 3, 1, 0.67097212780421478, 0.32426920462270564),\n",
       "  (436, 0, 1, 0.67460857726344448, 0.32471068754254595),\n",
       "  (579, 0, 2, 0.70511945392491471, 0.29488054607508535),\n",
       "  (583, 3, 2, 0.5318118948824343, 0.4681881051175657),\n",
       "  (672, 1, 0, 0.60544217687074831, 0.39455782312925169),\n",
       "  (694, 0, 2, 0.71972789115646263, 0.28027210884353743),\n",
       "  (1331, 2, 3, 0.63053851397409677, 0.36946148602590323)])"
      ]
     },
     "execution_count": 26,
     "metadata": {},
     "output_type": "execute_result"
    }
   ],
   "source": [
    "divergent_pos = get_diverse_positions(profile_gapless)\n",
    "len(divergent_pos), divergent_pos"
   ]
  },
  {
   "cell_type": "code",
   "execution_count": 27,
   "metadata": {},
   "outputs": [],
   "source": [
    "def split_alignments_primitive(alignments, diverse_pos, min_dist=100, min_pvalue=0.05, verbose=True):\n",
    "    split_pos, split_nucl, best_cm = None, None, None\n",
    "    best_pvalue = min_pvalue\n",
    "    pvalues = {}\n",
    "    n_hypothesis = 0\n",
    "    for pos1, _, _, _, _ in divergent_pos:\n",
    "        for pos2, _, _, _, _ in divergent_pos:\n",
    "            if pos1 <= pos2 - min_dist:\n",
    "                n_hypothesis += 1\n",
    "    for pos1, maj_vote1, sec_vote1, _, _ in diverse_pos:\n",
    "        for pos2, maj_vote2, sec_vote2, _, _ in diverse_pos:\n",
    "            if pos1 > pos2 - min_dist:\n",
    "                continue\n",
    "            cm = np.zeros((5,5))\n",
    "            for al in alignments.values():\n",
    "                nucl1 = mapNucl2Index(al[pos1])\n",
    "                nucl2 = mapNucl2Index(al[pos2])\n",
    "                cm[nucl1, nucl2] += 1\n",
    "            # print(cm)\n",
    "            # print(maj_vote1, sec_vote1)\n",
    "            # print(maj_vote2, sec_vote2)\n",
    "            cm = cm[[maj_vote1, sec_vote1], :]\n",
    "            cm = cm[:, [maj_vote2, sec_vote2]]\n",
    "            if np.any(np.sum(cm, axis=0) == 0) or np.any(np.sum(cm, axis=1) == 0):\n",
    "                continue\n",
    "            _, pvalue, _, _ = stats.chi2_contingency(cm)\n",
    "            pvalue *= n_hypothesis\n",
    "            pvalues[(pos1, pos2)] = pvalue\n",
    "            if pvalue < best_pvalue:\n",
    "                best_cm = cm\n",
    "                split_pos = (pos1, pos2)\n",
    "                best_pvalue = pvalue\n",
    "                if np.sum(np.diag(cm)) <= np.sum(np.diag(cm[::-1])):\n",
    "                    split_nucl = ((sec_vote1, maj_vote2),\n",
    "                                  (maj_vote1, sec_vote2))\n",
    "                else:\n",
    "                    split_nucl = ((maj_vote1, maj_vote2),\n",
    "                                  (sec_vote1, sec_vote2))\n",
    "    if split_pos is None:\n",
    "        return None, None, None\n",
    "\n",
    "\n",
    "    alignments1, alignments2 = {}, {}\n",
    "    for i, al in alignments.items():\n",
    "        nucl1 = al[split_pos[0]]\n",
    "        nucl2 = al[split_pos[1]]\n",
    "        if mapNucl2Index(nucl1) == split_nucl[0][0] and \\\n",
    "            mapNucl2Index(nucl2) == split_nucl[0][1]:\n",
    "            alignments1[i] = al\n",
    "        elif mapNucl2Index(nucl1) == split_nucl[1][0] and \\\n",
    "            mapNucl2Index(nucl2) == split_nucl[1][1]:\n",
    "        #else:\n",
    "            alignments2[i] = al\n",
    "    if verbose:\n",
    "        print(split_pos)\n",
    "        print(best_cm)\n",
    "        print(best_cm / np.sum(best_cm))\n",
    "        print(best_pvalue)\n",
    "        print(len(alignments1), len(alignments2))\n",
    "        print()\n",
    "\n",
    "    return alignments1, alignments2, pvalues"
   ]
  },
  {
   "cell_type": "code",
   "execution_count": 28,
   "metadata": {
    "scrolled": true
   },
   "outputs": [
    {
     "name": "stdout",
     "output_type": "stream",
     "text": [
      "(579, 694)\n",
      "[[ 1010.    23.]\n",
      " [   42.   389.]]\n",
      "[[ 0.68989071  0.01571038]\n",
      " [ 0.02868852  0.26571038]]\n",
      "3.10939595579e-253\n",
      "1010 389\n",
      "\n"
     ]
    },
    {
     "data": {
      "text/plain": [
       "17"
      ]
     },
     "execution_count": 28,
     "metadata": {},
     "output_type": "execute_result"
    }
   ],
   "source": [
    "_, _, pvalues = split_alignments_primitive(alignments, divergent_pos)\n",
    "len(pvalues)"
   ]
  },
  {
   "cell_type": "code",
   "execution_count": 29,
   "metadata": {},
   "outputs": [],
   "source": [
    "def get_divergent_pos_network(pvalues):\n",
    "    divergent_pos_network = nx.Graph()\n",
    "    for (pos1, pos2), pvalue in pvalues.items():\n",
    "        if pvalue < 0.05:\n",
    "            divergent_pos_network.add_edge(pos1, pos2, weight=pvalue)\n",
    "    return ndex2.create_nice_cx_from_networkx(divergent_pos_network)"
   ]
  },
  {
   "cell_type": "code",
   "execution_count": 30,
   "metadata": {},
   "outputs": [],
   "source": [
    "def split_alignments(alignments, min_size=100, max_iter=999):\n",
    "    alignment_groups = [alignments]\n",
    "    for i in range(max_iter):\n",
    "        new_alignment_groups = []\n",
    "        for i, alignment_group in enumerate(alignment_groups):\n",
    "            print(len(alignment_groups))\n",
    "            if len(alignment_group) >= min_size:\n",
    "                filt_profile = get_profile(alignment_group)\n",
    "                filt_profile = filt_profile[:, :4]\n",
    "                diverse_pos = get_diverse_positions(filt_profile)\n",
    "                print(f'# divergent positions: {len(diverse_pos)}')\n",
    "                split_alignments1, split_alignments2, _ = split_alignments_primitive(alignment_group, diverse_pos)\n",
    "                if split_alignments1 is not None and \\\n",
    "                        len(split_alignments1) >= min_size and \\\n",
    "                        len(split_alignments2) >= min_size:\n",
    "                    new_alignment_groups.append(split_alignments1)\n",
    "                    new_alignment_groups.append(split_alignments2)\n",
    "                    print(i, len(alignment_group), len(split_alignments1), len(split_alignments2))\n",
    "                else:\n",
    "                    new_alignment_groups.append(alignment_group)        \n",
    "            else:\n",
    "                new_alignment_groups.append(alignment_group)\n",
    "            \n",
    "        if new_alignment_groups == alignment_groups:\n",
    "            return alignment_groups\n",
    "        alignment_groups = new_alignment_groups\n",
    "    return alignment_groups\n"
   ]
  },
  {
   "cell_type": "code",
   "execution_count": 31,
   "metadata": {
    "scrolled": false
   },
   "outputs": [
    {
     "name": "stdout",
     "output_type": "stream",
     "text": [
      "1\n",
      "# divergent positions: 7\n",
      "(579, 694)\n",
      "[[ 1010.    23.]\n",
      " [   42.   389.]]\n",
      "[[ 0.68989071  0.01571038]\n",
      " [ 0.02868852  0.26571038]]\n",
      "3.10939595579e-253\n",
      "1010 389\n",
      "\n",
      "0 1471 1010 389\n",
      "2\n",
      "# divergent positions: 5\n",
      "(166, 1331)\n",
      "[[ 193.  429.]\n",
      " [ 310.   68.]]\n",
      "[[ 0.193  0.429]\n",
      " [ 0.31   0.068]]\n",
      "1.99144105435e-53\n",
      "310 429\n",
      "\n",
      "0 1010 310 429\n",
      "2\n"
     ]
    },
    {
     "name": "stderr",
     "output_type": "stream",
     "text": [
      "/home/abzikadze/miniconda3/envs/python3.6/lib/python3.6/site-packages/ipykernel_launcher.py:11: RuntimeWarning: invalid value encountered in long_scalars\n",
      "  # This is added back by InteractiveShellApp.init_path()\n"
     ]
    },
    {
     "name": "stdout",
     "output_type": "stream",
     "text": [
      "# divergent positions: 3\n",
      "(369, 616)\n",
      "[[ 150.   59.]\n",
      " [  95.   78.]]\n",
      "[[ 0.39267016  0.15445026]\n",
      " [ 0.2486911   0.20418848]]\n",
      "0.0157266911702\n",
      "150 78\n",
      "\n",
      "3\n",
      "# divergent positions: 8\n",
      "(478, 583)\n",
      "[[  36.  140.]\n",
      " [ 132.    2.]]\n",
      "[[ 0.11612903  0.4516129 ]\n",
      " [ 0.42580645  0.00645161]]\n",
      "1.36520537084e-40\n",
      "132 140\n",
      "\n",
      "0 310 132 140\n",
      "3\n",
      "# divergent positions: 2\n",
      "(569, 672)\n",
      "[[ 195.  128.]\n",
      " [  90.   16.]]\n",
      "[[ 0.45454545  0.2983683 ]\n",
      " [ 0.20979021  0.03729604]]\n",
      "0.000103701794905\n",
      "90 128\n",
      "\n",
      "3\n",
      "# divergent positions: 3\n",
      "(369, 616)\n",
      "[[ 150.   59.]\n",
      " [  95.   78.]]\n",
      "[[ 0.39267016  0.15445026]\n",
      " [ 0.2486911   0.20418848]]\n",
      "0.0157266911702\n",
      "150 78\n",
      "\n",
      "4\n",
      "# divergent positions: 4\n",
      "(420, 1031)\n",
      "[[ 72.  19.]\n",
      " [ 18.  20.]]\n",
      "[[ 0.55813953  0.14728682]\n",
      " [ 0.13953488  0.15503876]]\n",
      "0.0128112346889\n",
      "72 20\n",
      "\n",
      "4\n",
      "# divergent positions: 9\n",
      "(537, 689)\n",
      "[[ 97.   2.]\n",
      " [  0.  41.]]\n",
      "[[ 0.69285714  0.01428571]\n",
      " [ 0.          0.29285714]]\n",
      "4.6599324383e-28\n",
      "97 41\n",
      "\n",
      "4\n",
      "# divergent positions: 2\n",
      "(569, 672)\n",
      "[[ 195.  128.]\n",
      " [  90.   16.]]\n",
      "[[ 0.45454545  0.2983683 ]\n",
      " [ 0.20979021  0.03729604]]\n",
      "0.000103701794905\n",
      "90 128\n",
      "\n",
      "4\n",
      "# divergent positions: 3\n",
      "(369, 616)\n",
      "[[ 150.   59.]\n",
      " [  95.   78.]]\n",
      "[[ 0.39267016  0.15445026]\n",
      " [ 0.2486911   0.20418848]]\n",
      "0.0157266911702\n",
      "150 78\n",
      "\n"
     ]
    }
   ],
   "source": [
    "alignment_groups = split_alignments(alignments)"
   ]
  },
  {
   "cell_type": "code",
   "execution_count": 32,
   "metadata": {},
   "outputs": [],
   "source": [
    "def plot_groups(alignment_groups):\n",
    "    ax = plt.figure().gca()\n",
    "    for i, group in enumerate(alignment_groups):\n",
    "        keys = list(group.keys())\n",
    "        plt.scatter(keys, np.zeros_like(keys) + i + 1, marker='|')\n",
    "    ax.yaxis.set_major_locator(MaxNLocator(integer=True))\n",
    "    plt.xlabel('Units', fontsize=18)\n",
    "    plt.ylabel('Subfamilies', fontsize=18)\n",
    "    plt.xticks(fontsize=16)\n",
    "    plt.yticks(range(1,len(alignment_groups)+1), fontsize=16)\n",
    "    plt.gca().invert_yaxis()\n",
    "    plt.grid()"
   ]
  },
  {
   "cell_type": "code",
   "execution_count": 33,
   "metadata": {
    "scrolled": true
   },
   "outputs": [
    {
     "data": {
      "text/plain": [
       "4"
      ]
     },
     "execution_count": 33,
     "metadata": {},
     "output_type": "execute_result"
    }
   ],
   "source": [
    "len(alignment_groups)"
   ]
  },
  {
   "cell_type": "code",
   "execution_count": 34,
   "metadata": {
    "scrolled": false
   },
   "outputs": [
    {
     "data": {
      "image/png": "[encoded data removed]",
      "text/plain": [
       "<Figure size 720x576 with 1 Axes>"
      ]
     },
     "metadata": {
      "needs_background": "light"
     },
     "output_type": "display_data"
    }
   ],
   "source": [
    "plot_groups(alignment_groups)"
   ]
  },
  {
   "cell_type": "code",
   "execution_count": 35,
   "metadata": {},
   "outputs": [],
   "source": [
    "def get_consensus(alignment_groups):\n",
    "    consensuses = {}\n",
    "    for i, al_group in enumerate(alignment_groups):\n",
    "        profile_group = get_profile(al_group)\n",
    "        consensus = np.argmax(profile_group, axis=1)\n",
    "        bases = list(\"ACGT-\")\n",
    "        consensus = [bases[i] for i in consensus]\n",
    "        consensus = ''.join(consensus)\n",
    "        consensuses[i] = consensus\n",
    "    return consensuses"
   ]
  },
  {
   "cell_type": "code",
   "execution_count": 36,
   "metadata": {},
   "outputs": [],
   "source": [
    "def DifferingPos(s1, s2):\n",
    "    return [i for i in range(len(s1)) if s1[i] != s2[i] and s1[i] != '-' and s2[i] != '-']"
   ]
  },
  {
   "cell_type": "code",
   "execution_count": 37,
   "metadata": {},
   "outputs": [],
   "source": [
    "consensuses = get_consensus(alignment_groups)\n",
    "all_differing_pos = []\n",
    "for i, c1 in consensuses.items():\n",
    "    for j, c2 in consensuses.items():\n",
    "        if i < j:\n",
    "            differing_pos = DifferingPos(c1, c2)\n",
    "            all_differing_pos += differing_pos\n",
    "all_differing_pos = set(all_differing_pos)"
   ]
  },
  {
   "cell_type": "code",
   "execution_count": 38,
   "metadata": {},
   "outputs": [
    {
     "name": "stdout",
     "output_type": "stream",
     "text": [
      "1 C A G G C G G T C A G\n",
      "2 C A A C C A T T C A A\n",
      "3 C A A G T A G G A A A\n",
      "4 A G A G T A T G A G A\n"
     ]
    }
   ],
   "source": [
    "for i, consensus in consensuses.items():\n",
    "    print(i + 1, ' '.join([consensus[j] for j in all_differing_pos]))"
   ]
  },
  {
   "cell_type": "code",
   "execution_count": 39,
   "metadata": {},
   "outputs": [
    {
     "name": "stderr",
     "output_type": "stream",
     "text": [
      "/home/abzikadze/miniconda3/envs/python3.6/lib/python3.6/site-packages/ipykernel_launcher.py:11: RuntimeWarning: invalid value encountered in long_scalars\n",
      "  # This is added back by InteractiveShellApp.init_path()\n"
     ]
    },
    {
     "name": "stdout",
     "output_type": "stream",
     "text": [
      "0 132 4\n",
      "1 140 9\n",
      "2 429 2\n",
      "3 389 3\n"
     ]
    }
   ],
   "source": [
    "for i, al_group in enumerate(alignment_groups):\n",
    "    keys = list(al_group.keys())\n",
    "    profile_group = get_profile(al_group)\n",
    "    profile_group = profile_group[:, :4]\n",
    "    divergent_pos_group = get_diverse_positions(profile_group)\n",
    "    print(i, len(keys), len(divergent_pos_group))"
   ]
  },
  {
   "cell_type": "markdown",
   "metadata": {},
   "source": [
    "# 7 divergent positions -- profile"
   ]
  },
  {
   "cell_type": "code",
   "execution_count": 40,
   "metadata": {},
   "outputs": [
    {
     "data": {
      "text/plain": [
       "[(166, 3, 1, 0.67097212780421478, 0.32426920462270564),\n",
       " (436, 0, 1, 0.67460857726344448, 0.32471068754254595),\n",
       " (579, 0, 2, 0.70511945392491471, 0.29488054607508535),\n",
       " (583, 3, 2, 0.5318118948824343, 0.4681881051175657),\n",
       " (672, 1, 0, 0.60544217687074831, 0.39455782312925169),\n",
       " (694, 0, 2, 0.71972789115646263, 0.28027210884353743),\n",
       " (1331, 2, 3, 0.63053851397409677, 0.36946148602590323)]"
      ]
     },
     "execution_count": 40,
     "metadata": {},
     "output_type": "execute_result"
    }
   ],
   "source": [
    "divergent_pos"
   ]
  },
  {
   "cell_type": "code",
   "execution_count": 41,
   "metadata": {},
   "outputs": [],
   "source": [
    "def get_most_common_genotypes(alignments, divergent_pos, nclusters):\n",
    "    divergent_pos_profile = []\n",
    "    genotype_pos = defaultdict(list)\n",
    "    for i, alignment in enumerate(alignments.values()):\n",
    "        substr = tuple(alignment[pos[0]] for pos in divergent_pos)\n",
    "        genotype_pos[substr].append(i)\n",
    "        if '-' not in substr:\n",
    "            divergent_pos_profile.append(substr)\n",
    "    most_common_genotypes = Counter(divergent_pos_profile).most_common(nclusters)\n",
    "    return genotype_pos, most_common_genotypes\n"
   ]
  },
  {
   "cell_type": "code",
   "execution_count": 42,
   "metadata": {},
   "outputs": [
    {
     "data": {
      "text/plain": [
       "[(('T', 'A', 'G', 'T', 'A', 'G', 'G'), 198),\n",
       " (('C', 'C', 'A', 'G', 'C', 'A', 'T'), 123),\n",
       " (('T', 'A', 'A', 'G', 'C', 'A', 'G'), 211),\n",
       " (('T', 'A', 'G', 'T', 'C', 'G', 'G'), 86),\n",
       " (('C', 'C', 'A', 'T', 'A', 'A', 'T'), 44),\n",
       " (('C', 'A', 'G', 'T', 'A', 'G', 'G'), 42),\n",
       " (('C', 'C', 'A', 'T', 'C', 'A', 'T'), 41),\n",
       " (('T', 'A', 'A', 'G', 'A', 'A', 'G'), 112),\n",
       " (('T', 'C', 'A', 'T', 'C', 'A', 'T'), 66),\n",
       " (('C', 'A', 'A', 'T', 'C', 'A', 'T'), 39)]"
      ]
     },
     "execution_count": 42,
     "metadata": {},
     "output_type": "execute_result"
    }
   ],
   "source": [
    "genotype_pos, most_common_genotypes = get_most_common_genotypes(alignments, divergent_pos, 10)\n",
    "most_common_genotypes = [most_common_genotypes[i] for i in [1, 2, 0, 4, 6, 7, 8, 3, 5, 9]]\n",
    "most_common_genotypes\n"
   ]
  },
  {
   "cell_type": "code",
   "execution_count": 43,
   "metadata": {},
   "outputs": [],
   "source": [
    "def plot_genotype_pos(genotype_pos, selected_genotypes):\n",
    "    ax = plt.figure().gca()\n",
    "    for i, (genotype, count) in enumerate(selected_genotypes):\n",
    "        keys = genotype_pos[genotype]\n",
    "        plt.scatter(keys, np.zeros_like(keys) + i + 1, marker='|')\n",
    "    ax.yaxis.set_major_locator(MaxNLocator(integer=True))\n",
    "    plt.xlabel('Units', fontsize=18)\n",
    "    plt.ylabel('Subfamilies', fontsize=18)\n",
    "    plt.xticks(fontsize=16)\n",
    "    plt.yticks(range(1,len(selected_genotypes)+1), fontsize=16)\n",
    "    plt.gca().invert_yaxis()\n",
    "    plt.grid()"
   ]
  },
  {
   "cell_type": "code",
   "execution_count": 44,
   "metadata": {},
   "outputs": [
    {
     "data": {
      "image/png": "[encoded data removed]",
      "text/plain": [
       "<Figure size 720x576 with 1 Axes>"
      ]
     },
     "metadata": {
      "needs_background": "light"
     },
     "output_type": "display_data"
    }
   ],
   "source": [
    "plot_genotype_pos(genotype_pos, most_common_genotypes)"
   ]
  },
  {
   "cell_type": "markdown",
   "metadata": {},
   "source": [
    "# Comparison of clusters to gorilla"
   ]
  },
  {
   "cell_type": "code",
   "execution_count": 45,
   "metadata": {},
   "outputs": [],
   "source": [
    "dxz1_gorilla_fn = os.path.join(data_dir, 'DXZ1_gorilla', 'X56887.1.fasta')\n",
    "dxz1_gorilla = RC(read_bio_seq(dxz1_gorilla_fn))"
   ]
  },
  {
   "cell_type": "code",
   "execution_count": 46,
   "metadata": {},
   "outputs": [],
   "source": [
    "dxz1_gorilla_double = dxz1_gorilla + dxz1_gorilla\n",
    "\n",
    "dxz1_gorilla_double = compress_homopolymer(dxz1_gorilla_double)\n",
    "\n",
    "human_gorilla_dxz1_align = edlib.align(dxz1_star_hpc, dxz1_gorilla_double, mode='HW', task='path')"
   ]
  },
  {
   "cell_type": "code",
   "execution_count": 47,
   "metadata": {},
   "outputs": [],
   "source": [
    "def cigar2alignments(cigar, s1, s2):\n",
    "    matches = re.findall(r'(\\d+)([=XID]{1})', cigar)\n",
    "    a1, a2 = [], []\n",
    "    i1, i2 = 0, 0\n",
    "    for length, mode in matches:\n",
    "        length = int(length)\n",
    "        if mode == '=':\n",
    "            assert s1[i1:i1+length] == s2[i2:i2+length]\n",
    "            substr = s1[i1:i1+length]\n",
    "            a1.append(substr)\n",
    "            a2.append(substr)\n",
    "            i1 += length\n",
    "            i2 += length\n",
    "        elif mode == 'X':\n",
    "            a1.append(s1[i1:i1+length])\n",
    "            a2.append(s2[i2:i2+length])\n",
    "            i1 += length\n",
    "            i2 += length\n",
    "        elif mode == 'I':\n",
    "            a1.append(s1[i1:i1+length])\n",
    "            a2.append('-' * length)\n",
    "            i1 += length\n",
    "        elif mode == 'D':\n",
    "            a1.append('-' * length) \n",
    "            a2.append(s2[i2:i2+length])\n",
    "            i2 += length\n",
    "        else:\n",
    "            assert False\n",
    "    a1 = ''.join(a1)\n",
    "    a2 = ''.join(a2)\n",
    "    return a1, a2"
   ]
  },
  {
   "cell_type": "code",
   "execution_count": 48,
   "metadata": {
    "scrolled": true
   },
   "outputs": [],
   "source": [
    "dxz1_star_hpc_aligned, dxz1_gorilla_aligned = \\\n",
    "    cigar2alignments(human_gorilla_dxz1_align['cigar'],\n",
    "                     dxz1_star_hpc,\n",
    "                     dxz1_gorilla_double[human_gorilla_dxz1_align['locations'][0][0]:\n",
    "                                         human_gorilla_dxz1_align['locations'][0][1] + 1])"
   ]
  },
  {
   "cell_type": "code",
   "execution_count": 49,
   "metadata": {},
   "outputs": [],
   "source": [
    "def delete_gaps_dxz1_alignemnt(human, gorilla):\n",
    "    human_upd, gorilla_upd = [], []\n",
    "    for c1, c2 in zip(human, gorilla):\n",
    "        if c1 != '-':\n",
    "            human_upd.append(c1)\n",
    "            gorilla_upd.append(c2)\n",
    "    human_upd = ''.join(human_upd)\n",
    "    gorilla_upd = ''.join(gorilla_upd)\n",
    "    return human_upd, gorilla_upd\n",
    "\n",
    "dxz1_star_hpc_aligned, dxz1_gorilla_aligned = \\\n",
    "delete_gaps_dxz1_alignemnt(dxz1_star_hpc_aligned, dxz1_gorilla_aligned)\n"
   ]
  },
  {
   "cell_type": "code",
   "execution_count": 50,
   "metadata": {},
   "outputs": [
    {
     "name": "stdout",
     "output_type": "stream",
     "text": [
      "T C\n",
      "A A\n",
      "G G\n",
      "T -\n",
      "C C\n",
      "A G\n",
      "G G\n"
     ]
    }
   ],
   "source": [
    "for pos, _, _, _, _ in divergent_pos:\n",
    "    print(dxz1_star_hpc_aligned[pos], dxz1_gorilla_aligned[pos])"
   ]
  },
  {
   "cell_type": "code",
   "execution_count": 51,
   "metadata": {},
   "outputs": [],
   "source": [
    "def HammingDistance(s1, s2):\n",
    "    return len([i for i in range(len(s1)) if s1[i] != s2[i]])"
   ]
  },
  {
   "cell_type": "code",
   "execution_count": 52,
   "metadata": {
    "scrolled": true
   },
   "outputs": [
    {
     "name": "stdout",
     "output_type": "stream",
     "text": [
      "1 TAGTAGG 3\n",
      "2 CCAGCAT 5\n",
      "3 TAAGCAG 4\n",
      "4 TAGTCGG 2\n",
      "5 CCATAAT 6\n",
      "6 CAGTAGG 2\n",
      "7 CCATCAT 5\n",
      "8 TAAGAAG 5\n",
      "9 TCATCAT 6\n",
      "10 CAATCAT 4\n"
     ]
    }
   ],
   "source": [
    "gorilla_genotype = ''.join(dxz1_gorilla_aligned[pos] for pos, _, _, _, _ in divergent_pos)\n",
    "for i, (genotype, cnt) in enumerate(most_common_genotypes):\n",
    "    genotype = ''.join(genotype)\n",
    "    print(i+1, genotype, HammingDistance(gorilla_genotype, genotype))"
   ]
  },
  {
   "cell_type": "code",
   "execution_count": null,
   "metadata": {},
   "outputs": [],
   "source": []
  }
 ],
 "metadata": {
  "kernelspec": {
   "display_name": "Python 3",
   "language": "python",
   "name": "python3"
  },
  "language_info": {
   "codemirror_mode": {
    "name": "ipython",
    "version": 3
   },
   "file_extension": ".py",
   "mimetype": "text/x-python",
   "name": "python",
   "nbconvert_exporter": "python",
   "pygments_lexer": "ipython3",
   "version": "3.6.7"
  }
 },
 "nbformat": 4,
 "nbformat_minor": 2
}
