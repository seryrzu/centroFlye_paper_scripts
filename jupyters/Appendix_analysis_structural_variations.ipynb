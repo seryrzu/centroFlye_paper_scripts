{
 "cells": [
  {
   "cell_type": "code",
   "execution_count": 1,
   "metadata": {},
   "outputs": [],
   "source": [
    "import sys\n",
    "sys.path.append('../centroFlye_repo/scripts')\n",
    "\n",
    "import os\n",
    "from collections import defaultdict, Counter\n",
    "import statistics\n",
    "\n",
    "import numpy as np\n",
    "import edlib\n",
    "\n",
    "import matplotlib\n",
    "%matplotlib inline \n",
    "import matplotlib.pyplot as plt\n",
    "from matplotlib.ticker import MaxNLocator\n",
    "\n",
    "\n",
    "from utils.bio import read_bio_seq, write_bio_seqs\n",
    "from ncrf_parser import NCRF_Report\n",
    "from utils.os_utils import smart_mkdir\n",
    "from eltr_polisher import read_reported_positions\n",
    "\n",
    "%load_ext autoreload\n",
    "%autoreload 2"
   ]
  },
  {
   "cell_type": "code",
   "execution_count": 2,
   "metadata": {},
   "outputs": [],
   "source": [
    "plt.rcParams['figure.figsize'] = [10, 8]\n"
   ]
  },
  {
   "cell_type": "code",
   "execution_count": 3,
   "metadata": {},
   "outputs": [],
   "source": [
    "data_dir = os.path.join('..', 'data')\n",
    "centroFlye_results_dir = os.path.join(data_dir, 'centroFlye_results')\n",
    "\n",
    "read_placement_fn = \\\n",
    "os.path.join(centroFlye_results_dir, 'tr_resolution', 'read_positions.csv')\n",
    "\n",
    "ncrf_fn = \\\n",
    "os.path.join(centroFlye_results_dir, 'NCRF', 'report.ncrf')\n",
    "\n",
    "polished_dir = \\\n",
    "os.path.join(centroFlye_results_dir, 'polishing1')\n",
    "\n",
    "dxz1_fn = \\\n",
    "os.path.join(centroFlye_results_dir, 'DXZ1_star', 'DXZ1_rc_star.fasta')\n",
    "\n",
    "outdir = os.path.join(data_dir, 'abnormal_units')\n",
    "\n",
    "centroFlye_assembly_fn = os.path.join(polished_dir, 'final_sequence_4.fasta')\n"
   ]
  },
  {
   "cell_type": "code",
   "execution_count": 4,
   "metadata": {
    "scrolled": true
   },
   "outputs": [],
   "source": [
    "smart_mkdir(outdir)"
   ]
  },
  {
   "cell_type": "code",
   "execution_count": 5,
   "metadata": {},
   "outputs": [],
   "source": [
    "ncrf_report = NCRF_Report(ncrf_fn)"
   ]
  },
  {
   "cell_type": "code",
   "execution_count": 6,
   "metadata": {},
   "outputs": [],
   "source": [
    "motif_alignments = ncrf_report.get_motif_alignments()"
   ]
  },
  {
   "cell_type": "code",
   "execution_count": 7,
   "metadata": {},
   "outputs": [],
   "source": [
    "read_placement = read_reported_positions(read_placement_fn)"
   ]
  },
  {
   "cell_type": "code",
   "execution_count": 8,
   "metadata": {},
   "outputs": [],
   "source": [
    "dxz1 = read_bio_seq(dxz1_fn)"
   ]
  },
  {
   "cell_type": "markdown",
   "metadata": {},
   "source": [
    "# Distribution of lengths in cenX assembly"
   ]
  },
  {
   "cell_type": "code",
   "execution_count": 9,
   "metadata": {},
   "outputs": [],
   "source": [
    "assembly_len = 1510\n",
    "assembly_unit_lens = []\n",
    "for pos in range(assembly_len):\n",
    "    polished_unit_fn = os.path.join(polished_dir, f'pos_{pos}', 'polished_4.fasta')\n",
    "    polished_unit = read_bio_seq(polished_unit_fn)\n",
    "    assembly_unit_lens.append(len(polished_unit))"
   ]
  },
  {
   "cell_type": "code",
   "execution_count": 10,
   "metadata": {},
   "outputs": [
    {
     "name": "stderr",
     "output_type": "stream",
     "text": [
      "/home/abzikadze/miniconda3/envs/python3.6/lib/python3.6/site-packages/matplotlib/pyplot.py:1479: UserWarning: Attempted to set non-positive bottom ylim on a log-scaled axis.\n",
      "Invalid limit will be ignored.\n",
      "  ret = ax.set_ylim(*args, **kwargs)\n"
     ]
    },
    {
     "data": {
      "image/png": "[encoded data removed]",
      "text/plain": [
       "<Figure size 720x576 with 1 Axes>"
      ]
     },
     "metadata": {
      "needs_background": "light"
     },
     "output_type": "display_data"
    }
   ],
   "source": [
    "plt.hist(assembly_unit_lens, bins=100)\n",
    "plt.vlines(len(dxz1), 0, 1100)\n",
    "plt.xticks(fontsize=16)\n",
    "plt.yticks(fontsize=16)\n",
    "plt.yscale('log')\n",
    "plt.xlabel('Lengths of units in cenX assembly', fontsize=18)\n",
    "plt.ylabel('Counts', fontsize=18)\n",
    "plt.ylim((0, 1100))\n",
    "pass"
   ]
  },
  {
   "cell_type": "code",
   "execution_count": 11,
   "metadata": {},
   "outputs": [
    {
     "data": {
      "text/plain": [
       "(2055.3251655629138, 2057.0, 84.414278568836266)"
      ]
     },
     "execution_count": 11,
     "metadata": {},
     "output_type": "execute_result"
    }
   ],
   "source": [
    "np.mean(assembly_unit_lens), np.median(assembly_unit_lens), np.std(assembly_unit_lens)"
   ]
  },
  {
   "cell_type": "markdown",
   "metadata": {},
   "source": [
    "# Abnormal units"
   ]
  },
  {
   "cell_type": "code",
   "execution_count": 12,
   "metadata": {},
   "outputs": [],
   "source": [
    "def map_pos2read(read_placement, motif_alignments):\n",
    "    pos2read = defaultdict(list)\n",
    "    for r_id, pos in read_placement.items():\n",
    "        if pos is None:\n",
    "            continue\n",
    "        record = ncrf_report.records[r_id]\n",
    "        ma = motif_alignments[r_id]\n",
    "        for i in range(len(ma)):\n",
    "            pos2read[pos + i].append((r_id, i))\n",
    "    return pos2read\n"
   ]
  },
  {
   "cell_type": "code",
   "execution_count": 13,
   "metadata": {},
   "outputs": [],
   "source": [
    "pos2read = map_pos2read(read_placement, motif_alignments)"
   ]
  },
  {
   "cell_type": "code",
   "execution_count": 14,
   "metadata": {},
   "outputs": [],
   "source": [
    "def get_abnormal_units(pos2read, motif_alignments, unit_len=2055):\n",
    "    all_r_units_lens = []\n",
    "    med_lens = {}\n",
    "    for pos in pos2read:\n",
    "        seqs = {}\n",
    "        median_read_unit, template_read = \"\", None\n",
    "        for (r_id, p) in pos2read[pos]:\n",
    "            r_al = motif_alignments[r_id][p].r_al\n",
    "            r_al = r_al.upper().replace('-', '')\n",
    "            seqs[f'gen_pos={pos}|r_id={r_id}|r_pos={p}'] = r_al\n",
    "        r_units_lens = [len(seq) for seq in seqs.values()]\n",
    "        all_r_units_lens += r_units_lens\n",
    "        med_len = statistics.median_high(r_units_lens)\n",
    "        med_lens[pos] = med_len\n",
    "    \n",
    "    all_med_len = statistics.median_high(all_r_units_lens)\n",
    "    abnormal_units = {}\n",
    "    for pos, med_len in med_lens.items():\n",
    "        if med_len < 0.95 * all_med_len or med_len > 1.05 * all_med_len:\n",
    "            abnormal_units[pos] = med_len\n",
    "    return all_med_len, abnormal_units\n"
   ]
  },
  {
   "cell_type": "code",
   "execution_count": 15,
   "metadata": {},
   "outputs": [],
   "source": [
    "all_med_len, abnormal_units = \\\n",
    "get_abnormal_units(pos2read, motif_alignments)\n"
   ]
  },
  {
   "cell_type": "markdown",
   "metadata": {},
   "source": [
    "Abnormal units"
   ]
  },
  {
   "cell_type": "code",
   "execution_count": 16,
   "metadata": {},
   "outputs": [
    {
     "name": "stdout",
     "output_type": "stream",
     "text": [
      "dict_keys([0, 117, 298, 332, 334, 338, 399, 544, 548, 564, 571, 576, 582, 624, 626, 640, 649, 669, 678, 697, 706, 947, 1173, 1177, 1185, 1197, 1199, 1201, 1203, 1215, 1218, 1347, 1350, 1484, 1509])\n"
     ]
    }
   ],
   "source": [
    "print(abnormal_units.keys())"
   ]
  },
  {
   "cell_type": "markdown",
   "metadata": {},
   "source": [
    "\\# Abnormal units"
   ]
  },
  {
   "cell_type": "code",
   "execution_count": 17,
   "metadata": {},
   "outputs": [
    {
     "data": {
      "text/plain": [
       "35"
      ]
     },
     "execution_count": 17,
     "metadata": {},
     "output_type": "execute_result"
    }
   ],
   "source": [
    "len(abnormal_units)"
   ]
  },
  {
   "cell_type": "markdown",
   "metadata": {},
   "source": [
    "Lengths of abnormal units"
   ]
  },
  {
   "cell_type": "code",
   "execution_count": 18,
   "metadata": {},
   "outputs": [
    {
     "name": "stdout",
     "output_type": "stream",
     "text": [
      "0 8 7.964912280701754\n",
      "117 10 9.988304093567251\n",
      "298 11 10.853801169590643\n",
      "332 11 10.736842105263158\n",
      "334 15 14.801169590643275\n",
      "338 17 16.730994152046783\n",
      "399 17 16.678362573099417\n",
      "544 17 16.789473684210527\n",
      "548 17 16.801169590643276\n",
      "564 17 16.830409356725145\n",
      "571 17 16.70175438596491\n",
      "576 17 16.736842105263158\n",
      "582 17 16.625730994152047\n",
      "624 10 9.947368421052632\n",
      "626 10 9.929824561403509\n",
      "640 11 10.88888888888889\n",
      "649 11 10.88888888888889\n",
      "669 11 10.91812865497076\n",
      "678 11 10.912280701754385\n",
      "697 11 10.941520467836257\n",
      "706 10 9.970760233918128\n",
      "947 6 5.988304093567251\n",
      "1173 17 16.75438596491228\n",
      "1177 17 16.77777777777778\n",
      "1185 10 9.91812865497076\n",
      "1197 10 9.953216374269006\n",
      "1199 10 9.894736842105264\n",
      "1201 10 9.95906432748538\n",
      "1203 10 9.883040935672515\n",
      "1215 10 9.912280701754385\n",
      "1218 10 9.894736842105264\n",
      "1347 5 4.690058479532164\n",
      "1350 8 7.508771929824562\n",
      "1484 11 11.017543859649123\n",
      "1509 10 10.339181286549708\n"
     ]
    }
   ],
   "source": [
    "nmer_lens = []\n",
    "for pos, length in abnormal_units.items():\n",
    "    nmer_lens.append(round(length / 171))\n",
    "    print(pos, nmer_lens[-1], length / 171)"
   ]
  },
  {
   "cell_type": "markdown",
   "metadata": {},
   "source": [
    "Most common lengths of abnormal units"
   ]
  },
  {
   "cell_type": "code",
   "execution_count": 19,
   "metadata": {},
   "outputs": [
    {
     "data": {
      "text/plain": [
       "[(10, 12), (17, 10), (11, 8), (8, 2), (15, 1), (6, 1), (5, 1)]"
      ]
     },
     "execution_count": 19,
     "metadata": {},
     "output_type": "execute_result"
    }
   ],
   "source": [
    "Counter(nmer_lens).most_common()"
   ]
  },
  {
   "cell_type": "markdown",
   "metadata": {},
   "source": [
    "Generating dot plots of abnormal units"
   ]
  },
  {
   "cell_type": "code",
   "execution_count": 20,
   "metadata": {},
   "outputs": [],
   "source": [
    "def get_gepard_cmd(seq1, seq2, outfile):\n",
    "    cmd = 'java -cp /home/abzikadze/soft/gepard/dist/Gepard-1.40.jar ' + \\\n",
    "        'org.gepard.client.cmdline.CommandLine ' + \\\n",
    "        f'-seq1 {seq1} -seq2 {seq2} ' + \\\n",
    "        f'-matrix /home/abzikadze/soft/gepard/resources/matrices/edna.mat -outfile {outfile}'\n",
    "    return cmd"
   ]
  },
  {
   "cell_type": "code",
   "execution_count": 21,
   "metadata": {
    "scrolled": true
   },
   "outputs": [
    {
     "name": "stdout",
     "output_type": "stream",
     "text": [
      "Loading substitution matrix...\n",
      "Loading sequence from ../data/centroFlye_results/polishing1/pos_0/polished_4_gepard.fasta\n",
      "Loading sequence from ../data/centroFlye_results/DXZ1_star/DXZ1_rc_star.fasta\n",
      "Calculating suffix array... \n",
      "Calculating dotplot... \n",
      "Creating image and writing to file... \n",
      "Loading substitution matrix...\n",
      "Loading sequence from ../data/centroFlye_results/polishing1/pos_117/polished_4_gepard.fasta\n",
      "Loading sequence from ../data/centroFlye_results/DXZ1_star/DXZ1_rc_star.fasta\n",
      "Calculating suffix array... \n",
      "Calculating dotplot... \n",
      "Creating image and writing to file... \n",
      "Loading substitution matrix...\n",
      "Loading sequence from ../data/centroFlye_results/polishing1/pos_298/polished_4_gepard.fasta\n",
      "Loading sequence from ../data/centroFlye_results/DXZ1_star/DXZ1_rc_star.fasta\n",
      "Calculating suffix array... \n",
      "Calculating dotplot... \n",
      "Creating image and writing to file... \n",
      "Loading substitution matrix...\n",
      "Loading sequence from ../data/centroFlye_results/polishing1/pos_332/polished_4_gepard.fasta\n",
      "Loading sequence from ../data/centroFlye_results/DXZ1_star/DXZ1_rc_star.fasta\n",
      "Calculating suffix array... \n",
      "Calculating dotplot... \n",
      "Creating image and writing to file... \n",
      "Loading substitution matrix...\n",
      "Loading sequence from ../data/centroFlye_results/polishing1/pos_334/polished_4_gepard.fasta\n",
      "Loading sequence from ../data/centroFlye_results/DXZ1_star/DXZ1_rc_star.fasta\n",
      "Calculating suffix array... \n",
      "Calculating dotplot... \n",
      "Creating image and writing to file... \n",
      "Loading substitution matrix...\n",
      "Loading sequence from ../data/centroFlye_results/polishing1/pos_338/polished_4_gepard.fasta\n",
      "Loading sequence from ../data/centroFlye_results/DXZ1_star/DXZ1_rc_star.fasta\n",
      "Calculating suffix array... \n",
      "Calculating dotplot... \n",
      "Creating image and writing to file... \n",
      "Loading substitution matrix...\n",
      "Loading sequence from ../data/centroFlye_results/polishing1/pos_399/polished_4_gepard.fasta\n",
      "Loading sequence from ../data/centroFlye_results/DXZ1_star/DXZ1_rc_star.fasta\n",
      "Calculating suffix array... \n",
      "Calculating dotplot... \n",
      "Creating image and writing to file... \n",
      "Loading substitution matrix...\n",
      "Loading sequence from ../data/centroFlye_results/polishing1/pos_544/polished_4_gepard.fasta\n",
      "Loading sequence from ../data/centroFlye_results/DXZ1_star/DXZ1_rc_star.fasta\n",
      "Calculating suffix array... \n",
      "Calculating dotplot... \n",
      "Creating image and writing to file... \n",
      "Loading substitution matrix...\n",
      "Loading sequence from ../data/centroFlye_results/polishing1/pos_548/polished_4_gepard.fasta\n",
      "Loading sequence from ../data/centroFlye_results/DXZ1_star/DXZ1_rc_star.fasta\n",
      "Calculating suffix array... \n",
      "Calculating dotplot... \n",
      "Creating image and writing to file... \n",
      "Loading substitution matrix...\n",
      "Loading sequence from ../data/centroFlye_results/polishing1/pos_564/polished_4_gepard.fasta\n",
      "Loading sequence from ../data/centroFlye_results/DXZ1_star/DXZ1_rc_star.fasta\n",
      "Calculating suffix array... \n",
      "Calculating dotplot... \n",
      "Creating image and writing to file... \n",
      "Loading substitution matrix...\n",
      "Loading sequence from ../data/centroFlye_results/polishing1/pos_571/polished_4_gepard.fasta\n",
      "Loading sequence from ../data/centroFlye_results/DXZ1_star/DXZ1_rc_star.fasta\n",
      "Calculating suffix array... \n",
      "Calculating dotplot... \n",
      "Creating image and writing to file... \n",
      "Loading substitution matrix...\n",
      "Loading sequence from ../data/centroFlye_results/polishing1/pos_576/polished_4_gepard.fasta\n",
      "Loading sequence from ../data/centroFlye_results/DXZ1_star/DXZ1_rc_star.fasta\n",
      "Calculating suffix array... \n",
      "Calculating dotplot... \n",
      "Creating image and writing to file... \n",
      "Loading substitution matrix...\n",
      "Loading sequence from ../data/centroFlye_results/polishing1/pos_582/polished_4_gepard.fasta\n",
      "Loading sequence from ../data/centroFlye_results/DXZ1_star/DXZ1_rc_star.fasta\n",
      "Calculating suffix array... \n",
      "Calculating dotplot... \n",
      "Creating image and writing to file... \n",
      "Loading substitution matrix...\n",
      "Loading sequence from ../data/centroFlye_results/polishing1/pos_624/polished_4_gepard.fasta\n",
      "Loading sequence from ../data/centroFlye_results/DXZ1_star/DXZ1_rc_star.fasta\n",
      "Calculating suffix array... \n",
      "Calculating dotplot... \n",
      "Creating image and writing to file... \n",
      "Loading substitution matrix...\n",
      "Loading sequence from ../data/centroFlye_results/polishing1/pos_626/polished_4_gepard.fasta\n",
      "Loading sequence from ../data/centroFlye_results/DXZ1_star/DXZ1_rc_star.fasta\n",
      "Calculating suffix array... \n",
      "Calculating dotplot... \n",
      "Creating image and writing to file... \n",
      "Loading substitution matrix...\n",
      "Loading sequence from ../data/centroFlye_results/polishing1/pos_640/polished_4_gepard.fasta\n",
      "Loading sequence from ../data/centroFlye_results/DXZ1_star/DXZ1_rc_star.fasta\n",
      "Calculating suffix array... \n",
      "Calculating dotplot... \n",
      "Creating image and writing to file... \n",
      "Loading substitution matrix...\n",
      "Loading sequence from ../data/centroFlye_results/polishing1/pos_649/polished_4_gepard.fasta\n",
      "Loading sequence from ../data/centroFlye_results/DXZ1_star/DXZ1_rc_star.fasta\n",
      "Calculating suffix array... \n",
      "Calculating dotplot... \n",
      "Creating image and writing to file... \n",
      "Loading substitution matrix...\n",
      "Loading sequence from ../data/centroFlye_results/polishing1/pos_669/polished_4_gepard.fasta\n",
      "Loading sequence from ../data/centroFlye_results/DXZ1_star/DXZ1_rc_star.fasta\n",
      "Calculating suffix array... \n",
      "Calculating dotplot... \n",
      "Creating image and writing to file... \n",
      "Loading substitution matrix...\n",
      "Loading sequence from ../data/centroFlye_results/polishing1/pos_678/polished_4_gepard.fasta\n",
      "Loading sequence from ../data/centroFlye_results/DXZ1_star/DXZ1_rc_star.fasta\n",
      "Calculating suffix array... \n",
      "Calculating dotplot... \n",
      "Creating image and writing to file... \n",
      "Loading substitution matrix...\n",
      "Loading sequence from ../data/centroFlye_results/polishing1/pos_697/polished_4_gepard.fasta\n",
      "Loading sequence from ../data/centroFlye_results/DXZ1_star/DXZ1_rc_star.fasta\n",
      "Calculating suffix array... \n",
      "Calculating dotplot... \n",
      "Creating image and writing to file... \n",
      "Loading substitution matrix...\n",
      "Loading sequence from ../data/centroFlye_results/polishing1/pos_706/polished_4_gepard.fasta\n",
      "Loading sequence from ../data/centroFlye_results/DXZ1_star/DXZ1_rc_star.fasta\n",
      "Calculating suffix array... \n",
      "Calculating dotplot... \n",
      "Creating image and writing to file... \n",
      "Loading substitution matrix...\n",
      "Loading sequence from ../data/centroFlye_results/polishing1/pos_947/polished_4_gepard.fasta\n",
      "Loading sequence from ../data/centroFlye_results/DXZ1_star/DXZ1_rc_star.fasta\n",
      "Calculating suffix array... \n",
      "Calculating dotplot... \n",
      "Creating image and writing to file... \n",
      "Loading substitution matrix...\n",
      "Loading sequence from ../data/centroFlye_results/polishing1/pos_1173/polished_4_gepard.fasta\n",
      "Loading sequence from ../data/centroFlye_results/DXZ1_star/DXZ1_rc_star.fasta\n",
      "Calculating suffix array... \n",
      "Calculating dotplot... \n",
      "Creating image and writing to file... \n",
      "Loading substitution matrix...\n",
      "Loading sequence from ../data/centroFlye_results/polishing1/pos_1177/polished_4_gepard.fasta\n",
      "Loading sequence from ../data/centroFlye_results/DXZ1_star/DXZ1_rc_star.fasta\n",
      "Calculating suffix array... \n",
      "Calculating dotplot... \n",
      "Creating image and writing to file... \n",
      "Loading substitution matrix...\n",
      "Loading sequence from ../data/centroFlye_results/polishing1/pos_1185/polished_4_gepard.fasta\n",
      "Loading sequence from ../data/centroFlye_results/DXZ1_star/DXZ1_rc_star.fasta\n",
      "Calculating suffix array... \n",
      "Calculating dotplot... \n",
      "Creating image and writing to file... \n",
      "Loading substitution matrix...\n",
      "Loading sequence from ../data/centroFlye_results/polishing1/pos_1197/polished_4_gepard.fasta\n",
      "Loading sequence from ../data/centroFlye_results/DXZ1_star/DXZ1_rc_star.fasta\n",
      "Calculating suffix array... \n",
      "Calculating dotplot... \n",
      "Creating image and writing to file... \n",
      "Loading substitution matrix...\n",
      "Loading sequence from ../data/centroFlye_results/polishing1/pos_1199/polished_4_gepard.fasta\n",
      "Loading sequence from ../data/centroFlye_results/DXZ1_star/DXZ1_rc_star.fasta\n",
      "Calculating suffix array... \n",
      "Calculating dotplot... \n",
      "Creating image and writing to file... \n",
      "Loading substitution matrix...\n",
      "Loading sequence from ../data/centroFlye_results/polishing1/pos_1201/polished_4_gepard.fasta\n",
      "Loading sequence from ../data/centroFlye_results/DXZ1_star/DXZ1_rc_star.fasta\n",
      "Calculating suffix array... \n",
      "Calculating dotplot... \n",
      "Creating image and writing to file... \n"
     ]
    },
    {
     "name": "stdout",
     "output_type": "stream",
     "text": [
      "Loading substitution matrix...\n",
      "Loading sequence from ../data/centroFlye_results/polishing1/pos_1203/polished_4_gepard.fasta\n",
      "Loading sequence from ../data/centroFlye_results/DXZ1_star/DXZ1_rc_star.fasta\n",
      "Calculating suffix array... \n",
      "Calculating dotplot... \n",
      "Creating image and writing to file... \n",
      "Loading substitution matrix...\n",
      "Loading sequence from ../data/centroFlye_results/polishing1/pos_1215/polished_4_gepard.fasta\n",
      "Loading sequence from ../data/centroFlye_results/DXZ1_star/DXZ1_rc_star.fasta\n",
      "Calculating suffix array... \n",
      "Calculating dotplot... \n",
      "Creating image and writing to file... \n",
      "Loading substitution matrix...\n",
      "Loading sequence from ../data/centroFlye_results/polishing1/pos_1218/polished_4_gepard.fasta\n",
      "Loading sequence from ../data/centroFlye_results/DXZ1_star/DXZ1_rc_star.fasta\n",
      "Calculating suffix array... \n",
      "Calculating dotplot... \n",
      "Creating image and writing to file... \n",
      "Loading substitution matrix...\n",
      "Loading sequence from ../data/centroFlye_results/polishing1/pos_1347/polished_4_gepard.fasta\n",
      "Loading sequence from ../data/centroFlye_results/DXZ1_star/DXZ1_rc_star.fasta\n",
      "Calculating suffix array... \n",
      "Calculating dotplot... \n",
      "Creating image and writing to file... \n",
      "Loading substitution matrix...\n",
      "Loading sequence from ../data/centroFlye_results/polishing1/pos_1350/polished_4_gepard.fasta\n",
      "Loading sequence from ../data/centroFlye_results/DXZ1_star/DXZ1_rc_star.fasta\n",
      "Calculating suffix array... \n",
      "Calculating dotplot... \n",
      "Creating image and writing to file... \n",
      "Loading substitution matrix...\n",
      "Loading sequence from ../data/centroFlye_results/polishing1/pos_1484/polished_4_gepard.fasta\n",
      "Loading sequence from ../data/centroFlye_results/DXZ1_star/DXZ1_rc_star.fasta\n",
      "Calculating suffix array... \n",
      "Calculating dotplot... \n",
      "Creating image and writing to file... \n",
      "Loading substitution matrix...\n",
      "Loading sequence from ../data/centroFlye_results/polishing1/pos_1509/polished_4_gepard.fasta\n",
      "Loading sequence from ../data/centroFlye_results/DXZ1_star/DXZ1_rc_star.fasta\n",
      "Calculating suffix array... \n",
      "Calculating dotplot... \n",
      "Creating image and writing to file... \n"
     ]
    }
   ],
   "source": [
    "for pos in abnormal_units:\n",
    "    polished_unit_fn = os.path.join(polished_dir, f'pos_{pos}', 'polished_4.fasta')\n",
    "    polished_unit = read_bio_seq(polished_unit_fn)\n",
    "    polished_unit_for_gepard_fn = os.path.join(polished_dir, f'pos_{pos}', 'polished_4_gepard.fasta')\n",
    "    write_bio_seqs(polished_unit_for_gepard_fn, {f'unit_{pos}': polished_unit})\n",
    "    outfile = os.path.join(outdir, f'pos_{pos}.png')\n",
    "    cmd = get_gepard_cmd(polished_unit_for_gepard_fn, dxz1_fn, outfile)\n",
    "    !{cmd}"
   ]
  },
  {
   "cell_type": "markdown",
   "metadata": {},
   "source": [
    "# Abnormal 12-mers"
   ]
  },
  {
   "cell_type": "markdown",
   "metadata": {},
   "source": [
    "Generation of abnormal 12-mers"
   ]
  },
  {
   "cell_type": "code",
   "execution_count": 22,
   "metadata": {},
   "outputs": [],
   "source": [
    "def get_abnormal_12mers(indir, max_pos=1509, all_med_len=all_med_len):\n",
    "    edit_distances = {}\n",
    "    for pos in range(max_pos + 1):\n",
    "        unit_fn = os.path.join(indir, f'pos_{pos}', 'polished_4.fasta')\n",
    "        unit = read_bio_seq(unit_fn)\n",
    "        if len(unit) < 0.93 * all_med_len or len(unit) > 1.07 * all_med_len:\n",
    "            continue\n",
    "        alignment = edlib.align(unit, dxz1, task='locations')\n",
    "        #print(pos, alignment)\n",
    "        edit_distances[pos] = alignment['editDistance']\n",
    "    \n",
    "    return edit_distances\n"
   ]
  },
  {
   "cell_type": "code",
   "execution_count": 23,
   "metadata": {},
   "outputs": [],
   "source": [
    "edit_distances = get_abnormal_12mers(polished_dir)"
   ]
  },
  {
   "cell_type": "code",
   "execution_count": 24,
   "metadata": {},
   "outputs": [],
   "source": [
    "outdir_12mers = os.path.join(data_dir, \"abnormal_12_mers\")\n",
    "smart_mkdir(outdir_12mers)\n"
   ]
  },
  {
   "cell_type": "code",
   "execution_count": 25,
   "metadata": {
    "scrolled": true
   },
   "outputs": [
    {
     "name": "stdout",
     "output_type": "stream",
     "text": [
      "Loading substitution matrix...\n",
      "Loading sequence from ../data/centroFlye_results/polishing1/pos_14/polished_4_gepard.fasta\n",
      "Loading sequence from ../data/centroFlye_results/DXZ1_star/DXZ1_rc_star.fasta\n",
      "Calculating suffix array... \n",
      "Calculating dotplot... \n",
      "Creating image and writing to file... \n",
      "14 117\n",
      "Loading substitution matrix...\n",
      "Loading sequence from ../data/centroFlye_results/polishing1/pos_333/polished_4_gepard.fasta\n",
      "Loading sequence from ../data/centroFlye_results/DXZ1_star/DXZ1_rc_star.fasta\n",
      "Calculating suffix array... \n",
      "Calculating dotplot... \n",
      "Creating image and writing to file... \n",
      "333 456\n",
      "Loading substitution matrix...\n",
      "Loading sequence from ../data/centroFlye_results/polishing1/pos_335/polished_4_gepard.fasta\n",
      "Loading sequence from ../data/centroFlye_results/DXZ1_star/DXZ1_rc_star.fasta\n",
      "Calculating suffix array... \n",
      "Calculating dotplot... \n",
      "Creating image and writing to file... \n",
      "335 166\n",
      "Loading substitution matrix...\n",
      "Loading sequence from ../data/centroFlye_results/polishing1/pos_439/polished_4_gepard.fasta\n",
      "Loading sequence from ../data/centroFlye_results/DXZ1_star/DXZ1_rc_star.fasta\n",
      "Calculating suffix array... \n",
      "Calculating dotplot... \n",
      "Creating image and writing to file... \n",
      "439 147\n",
      "Loading substitution matrix...\n",
      "Loading sequence from ../data/centroFlye_results/polishing1/pos_709/polished_4_gepard.fasta\n",
      "Loading sequence from ../data/centroFlye_results/DXZ1_star/DXZ1_rc_star.fasta\n",
      "Calculating suffix array... \n",
      "Calculating dotplot... \n",
      "Creating image and writing to file... \n",
      "709 103\n",
      "Loading substitution matrix...\n",
      "Loading sequence from ../data/centroFlye_results/polishing1/pos_1347/polished_4_gepard.fasta\n",
      "Loading sequence from ../data/centroFlye_results/DXZ1_star/DXZ1_rc_star.fasta\n",
      "Calculating suffix array... \n",
      "Calculating dotplot... \n",
      "Creating image and writing to file... \n",
      "1347 683\n",
      "Loading substitution matrix...\n",
      "Loading sequence from ../data/centroFlye_results/polishing1/pos_1348/polished_4_gepard.fasta\n",
      "Loading sequence from ../data/centroFlye_results/DXZ1_star/DXZ1_rc_star.fasta\n",
      "Calculating suffix array... \n",
      "Calculating dotplot... \n",
      "Creating image and writing to file... \n",
      "1348 1087\n",
      "Loading substitution matrix...\n",
      "Loading sequence from ../data/centroFlye_results/polishing1/pos_1349/polished_4_gepard.fasta\n",
      "Loading sequence from ../data/centroFlye_results/DXZ1_star/DXZ1_rc_star.fasta\n",
      "Calculating suffix array... \n",
      "Calculating dotplot... \n",
      "Creating image and writing to file... \n",
      "1349 1048\n",
      "Loading substitution matrix...\n",
      "Loading sequence from ../data/centroFlye_results/polishing1/pos_1350/polished_4_gepard.fasta\n",
      "Loading sequence from ../data/centroFlye_results/DXZ1_star/DXZ1_rc_star.fasta\n",
      "Calculating suffix array... \n",
      "Calculating dotplot... \n",
      "Creating image and writing to file... \n",
      "1350 402\n",
      "Loading substitution matrix...\n",
      "Loading sequence from ../data/centroFlye_results/polishing1/pos_1507/polished_4_gepard.fasta\n",
      "Loading sequence from ../data/centroFlye_results/DXZ1_star/DXZ1_rc_star.fasta\n",
      "Calculating suffix array... \n",
      "Calculating dotplot... \n",
      "Creating image and writing to file... \n",
      "1507 103\n",
      "Loading substitution matrix...\n",
      "Loading sequence from ../data/centroFlye_results/polishing1/pos_1508/polished_4_gepard.fasta\n",
      "Loading sequence from ../data/centroFlye_results/DXZ1_star/DXZ1_rc_star.fasta\n",
      "Calculating suffix array... \n",
      "Calculating dotplot... \n",
      "Creating image and writing to file... \n",
      "1508 129\n"
     ]
    }
   ],
   "source": [
    "for pos, ed in edit_distances.items():\n",
    "    if ed > 100:\n",
    "        polished_unit_fn = os.path.join(polished_dir, f'pos_{pos}', 'polished_4.fasta')\n",
    "        polished_unit = read_bio_seq(polished_unit_fn)\n",
    "        polished_unit_for_gepard_fn = os.path.join(polished_dir, f'pos_{pos}', 'polished_4_gepard.fasta')\n",
    "        outfile = os.path.join(outdir_12mers, f'pos_{pos}.png')\n",
    "        write_bio_seqs(polished_unit_for_gepard_fn, {f'unit_{pos}': polished_unit})\n",
    "        cmd = get_gepard_cmd(polished_unit_for_gepard_fn, dxz1_fn, outfile)\n",
    "        !{cmd}\n",
    "        print(pos, ed)"
   ]
  },
  {
   "cell_type": "markdown",
   "metadata": {},
   "source": [
    "# Unique kmers in SVs"
   ]
  },
  {
   "cell_type": "code",
   "execution_count": 26,
   "metadata": {},
   "outputs": [],
   "source": [
    "all_abnormal_units = sorted(list(abnormal_units.keys()) + [333, 335])"
   ]
  },
  {
   "cell_type": "code",
   "execution_count": 27,
   "metadata": {},
   "outputs": [],
   "source": [
    "centroFlye_assembly = read_bio_seq(centroFlye_assembly_fn)"
   ]
  },
  {
   "cell_type": "code",
   "execution_count": 28,
   "metadata": {},
   "outputs": [],
   "source": [
    "def get_unique_kmers(seq, k=19):\n",
    "    all_kmers = defaultdict(int)\n",
    "    for i in range(len(seq) - k + 1):\n",
    "        kmer = seq[i:i+k]\n",
    "        all_kmers[kmer] += 1\n",
    "    unique_kmers = set([k for k in all_kmers if all_kmers[k] == 1])\n",
    "    return unique_kmers"
   ]
  },
  {
   "cell_type": "code",
   "execution_count": 29,
   "metadata": {},
   "outputs": [],
   "source": [
    "unique_kmers = get_unique_kmers(centroFlye_assembly)"
   ]
  },
  {
   "cell_type": "markdown",
   "metadata": {},
   "source": [
    "\\# of unique kmers in each abnormal unit, including abnormal 12-mers"
   ]
  },
  {
   "cell_type": "code",
   "execution_count": 30,
   "metadata": {},
   "outputs": [
    {
     "name": "stdout",
     "output_type": "stream",
     "text": [
      "0 411\n",
      "117 17\n",
      "298 174\n",
      "332 108\n",
      "333 115\n",
      "334 87\n",
      "335 17\n",
      "338 38\n",
      "399 28\n",
      "544 0\n",
      "548 50\n",
      "564 5\n",
      "571 0\n",
      "576 0\n",
      "582 53\n",
      "624 0\n",
      "626 0\n",
      "640 0\n",
      "649 0\n",
      "669 13\n",
      "678 0\n",
      "697 0\n",
      "706 0\n",
      "947 11\n",
      "1173 6\n",
      "1177 61\n",
      "1185 47\n",
      "1197 41\n",
      "1199 0\n",
      "1201 2\n",
      "1203 5\n",
      "1215 0\n",
      "1218 0\n",
      "1347 1221\n",
      "1350 763\n",
      "1484 83\n",
      "1509 551\n"
     ]
    }
   ],
   "source": [
    "k=19\n",
    "for pos in all_abnormal_units:\n",
    "    unit_fn = os.path.join(polished_dir, f'pos_{pos}', 'polished_4.fasta')\n",
    "    unit = read_bio_seq(unit_fn)\n",
    "    unit_unique_kmers = get_unique_kmers(unit)\n",
    "    print(pos, len(unit_unique_kmers & unique_kmers))"
   ]
  },
  {
   "cell_type": "code",
   "execution_count": null,
   "metadata": {},
   "outputs": [],
   "source": []
  }
 ],
 "metadata": {
  "kernelspec": {
   "display_name": "Python 3",
   "language": "python",
   "name": "python3"
  },
  "language_info": {
   "codemirror_mode": {
    "name": "ipython",
    "version": 3
   },
   "file_extension": ".py",
   "mimetype": "text/x-python",
   "name": "python",
   "nbconvert_exporter": "python",
   "pygments_lexer": "ipython3",
   "version": "3.6.7"
  }
 },
 "nbformat": 4,
 "nbformat_minor": 2
}
