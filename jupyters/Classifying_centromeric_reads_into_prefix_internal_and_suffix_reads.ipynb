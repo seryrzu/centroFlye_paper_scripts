{
 "cells": [
  {
   "cell_type": "code",
   "execution_count": 1,
   "metadata": {},
   "outputs": [],
   "source": [
    "import sys\n",
    "sys.path.append('../centroFlye_repo/scripts')\n",
    "\n",
    "from ncrf_parser import NCRF_Report"
   ]
  },
  {
   "cell_type": "markdown",
   "metadata": {},
   "source": [
    "# External data"
   ]
  },
  {
   "cell_type": "code",
   "execution_count": 2,
   "metadata": {},
   "outputs": [],
   "source": [
    "centromeric_reads_ncrf_fn = \"../data/centroFlye_results/NCRF_rc/report.ncrf\"\n",
    "\n",
    "centromeric_reads_ncrf = NCRF_Report(centromeric_reads_ncrf_fn)"
   ]
  },
  {
   "cell_type": "markdown",
   "metadata": {},
   "source": [
    "# Various numbers from the text"
   ]
  },
  {
   "cell_type": "markdown",
   "metadata": {},
   "source": [
    "Number of prefix and suffix reads"
   ]
  },
  {
   "cell_type": "code",
   "execution_count": 3,
   "metadata": {},
   "outputs": [
    {
     "data": {
      "text/plain": [
       "(15, 2357, 13)"
      ]
     },
     "execution_count": 3,
     "metadata": {},
     "output_type": "execute_result"
    }
   ],
   "source": [
    "prefix_reads, internal_reads, suffix_reads = centromeric_reads_ncrf.classify()\n",
    "    \n",
    "len(prefix_reads), len(internal_reads), len(suffix_reads)"
   ]
  },
  {
   "cell_type": "code",
   "execution_count": 4,
   "metadata": {
    "scrolled": true
   },
   "outputs": [
    {
     "name": "stdout",
     "output_type": "stream",
     "text": [
      "bbb9a515\n",
      "2200625d\n",
      "8e1862ab\n",
      "c0e64be8\n",
      "3687c9c4\n",
      "126ecb1b\n",
      "99a12b5d\n",
      "70bd73f5\n",
      "1b08076d\n",
      "a9cfd4b0\n",
      "51c9255f\n",
      "4381fe92\n",
      "a7446457\n",
      "204e16f0\n",
      "3e80e9b9\n"
     ]
    }
   ],
   "source": [
    "for r_id in prefix_reads:\n",
    "    print(r_id[:8])"
   ]
  },
  {
   "cell_type": "code",
   "execution_count": 5,
   "metadata": {},
   "outputs": [
    {
     "name": "stdout",
     "output_type": "stream",
     "text": [
      "81b36e37\n",
      "008f6a49\n",
      "869fd556\n",
      "5bf5f1b6\n",
      "bed6550a\n",
      "013dc6dd\n",
      "2d6833f9\n",
      "503fc236\n",
      "bba6fea9\n",
      "977d21cc\n",
      "c28f4df2\n",
      "92b5836d\n",
      "81f44172\n"
     ]
    }
   ],
   "source": [
    "for r_id in suffix_reads:\n",
    "    print(r_id[:8])"
   ]
  },
  {
   "cell_type": "code",
   "execution_count": null,
   "metadata": {},
   "outputs": [],
   "source": []
  }
 ],
 "metadata": {
  "kernelspec": {
   "display_name": "Python 3",
   "language": "python",
   "name": "python3"
  },
  "language_info": {
   "codemirror_mode": {
    "name": "ipython",
    "version": 3
   },
   "file_extension": ".py",
   "mimetype": "text/x-python",
   "name": "python",
   "nbconvert_exporter": "python",
   "pygments_lexer": "ipython3",
   "version": "3.6.7"
  }
 },
 "nbformat": 4,
 "nbformat_minor": 2
}
