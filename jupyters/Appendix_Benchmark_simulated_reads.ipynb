{
 "cells": [
  {
   "cell_type": "code",
   "execution_count": 1,
   "metadata": {},
   "outputs": [],
   "source": [
    "import sys\n",
    "sys.path.append('../centroFlye_repo/scripts')\n",
    "\n",
    "import os\n",
    "import pandas as pd\n",
    "import numpy as np\n",
    "import scipy as sc\n",
    "import bisect\n",
    "import matplotlib\n",
    "%matplotlib inline \n",
    "import matplotlib.pyplot as plt\n",
    "from matplotlib.ticker import MaxNLocator\n",
    "import seaborn as sns\n",
    "from collections import defaultdict, Counter\n",
    "import heapq\n",
    "from copy import deepcopy\n",
    "from itertools import accumulate\n",
    "import edlib\n",
    "import re\n",
    "\n",
    "\n",
    "from utils.bio import read_bio_seq, read_bio_seqs, write_bio_seqs, compress_homopolymer\n",
    "from utils.os_utils import smart_makedirs\n",
    "from read_kmer_cloud import get_reads_kmer_clouds, filter_reads_kmer_clouds\n",
    "from ncrf_parser import NCRF_Report\n",
    "from utils.various import find_all_overlap, take_closest, get_kmers\n",
    "from utils.os_utils import smart_makedirs\n",
    "from cloud_contig import CloudContig, map_reads, map_reads_fast\n",
    "from distance_based_kmer_recruitment import get_kmer_freqs_from_ncrf_report, get_kmer_dist_map, filter_dist_tuples\n",
    "\n",
    "\n",
    "%load_ext autoreload\n",
    "%autoreload 2"
   ]
  },
  {
   "cell_type": "code",
   "execution_count": 2,
   "metadata": {},
   "outputs": [],
   "source": [
    "plt.rcParams['figure.figsize'] = [10, 8]\n"
   ]
  },
  {
   "cell_type": "markdown",
   "metadata": {},
   "source": [
    "# Simulate repeats and resolve them"
   ]
  },
  {
   "cell_type": "code",
   "execution_count": 3,
   "metadata": {},
   "outputs": [],
   "source": [
    "simulations_dir = \"../data/simulations\"\n",
    "smart_makedirs(simulations_dir)\n",
    "\n",
    "centroFlye_scripts_dir = \"../centroFlye_repo/scripts\"\n",
    "data_dir = \"../data\"\n",
    "centroFlye_results_dir = \"../data/centroFlye_results/\""
   ]
  },
  {
   "cell_type": "code",
   "execution_count": 4,
   "metadata": {},
   "outputs": [],
   "source": [
    "def simulate_repeat(multiplicity, div_rate, outdir, seed,\n",
    "                    centroFlye_scripts_dir=centroFlye_scripts_dir,\n",
    "                    centroFlye_results_dir=centroFlye_results_dir,\n",
    "                    threads=30, coverage=43):\n",
    "    !python {centroFlye_scripts_dir}/simulate_tandem_repeat.py \\\n",
    "        --unit {centroFlye_results_dir}/DXZ1_star/DXZ1_rc_star.fasta  \\\n",
    "        --multiplicity {multiplicity} \\\n",
    "        --div-rate {div_rate} \\\n",
    "        -o {outdir} \\\n",
    "       --seed 468273\n",
    "    \n",
    "    !~/soft/NanoSim/src/simulator.py linear \\\n",
    "        --seed 468273 \\\n",
    "        -r {outdir}/flanked_tandem_repeat.fasta \\\n",
    "        -c ../data/nanosim_training/training \\\n",
    "        -n 3000\n",
    "    !mkdir {outdir}/nanosim\n",
    "    !mv simulated_error_profile {outdir}/nanosim/.\n",
    "    !mv simulated.log {outdir}/nanosim/.\n",
    "    !mv simulated_reads.fasta {outdir}/nanosim/.\n",
    "    \n",
    "    !python {centroFlye_scripts_dir}/run_ncrf_parallel.py \\\n",
    "        --reads {outdir}/nanosim/simulated_reads.fasta \\\n",
    "        -t {threads} \\\n",
    "        --outdir {outdir}/nanosim/NCRF \\\n",
    "        --repeat {centroFlye_results_dir}/DXZ1_star/DXZ1_rc_star.fasta\n",
    "    \n",
    "    !python {centroFlye_scripts_dir}/distance_based_kmer_recruitment.py \\\n",
    "        --ncrf {outdir}/nanosim/NCRF/report.ncrf \\\n",
    "        --coverage 43 \\\n",
    "        --\"min-coverage\" 4 \\\n",
    "        --outdir {outdir}/nanosim/recruited_unique_kmers_k19\n",
    "    \n",
    "    \n",
    "    !python {centroFlye_scripts_dir}/read_placer.py \\\n",
    "        --ncrf {outdir}/nanosim/NCRF/report.ncrf \\\n",
    "        --n-motif 1 \\\n",
    "        --genomic-kmers {outdir}/nanosim/recruited_unique_kmers_k19/unique_kmers_min_edge_cov_4.txt \\\n",
    "        --outdir {outdir}/nanosim/tr_resolution \\\n",
    "        --k-cloud 19\n",
    "    \n",
    "    !python /Poppy/abzikadze/tandem_flye/py/eltr_polisher.py \\\n",
    "        --read-placement {outdir}/nanosim/tr_resolution/read_positions.csv \\\n",
    "        --outdir {outdir}/nanosim/polishing \\\n",
    "        --output-progress \\\n",
    "        --error-mode nano \\\n",
    "        --num-iters 4 \\\n",
    "        --num-threads {threads} \\\n",
    "        --unit {centroFlye_results_dir}/DXZ1_star/DXZ1_rc_star.fasta \\\n",
    "        --ncrf {outdir}/nanosim/NCRF/report.ncrf"
   ]
  },
  {
   "cell_type": "code",
   "execution_count": 5,
   "metadata": {},
   "outputs": [],
   "source": [
    "seed = 468273\n",
    "div_rates = [0.01, 0.005, 0.0001]\n",
    "div_rates_fns = ['1', '05', '001']"
   ]
  },
  {
   "cell_type": "markdown",
   "metadata": {},
   "source": [
    "If you wish to replicate the simulation results, please, rerun the following cell (note that it can take up to 24 hours):"
   ]
  },
  {
   "cell_type": "code",
   "execution_count": 6,
   "metadata": {},
   "outputs": [],
   "source": [
    "#for div_rate, fn in zip(div_rates, div_rates_fns):\n",
    "#    simulate_repeat(multiplicity=500, div_rate=div_rate, outdir=f\"../data/simulations/sim_m500_d{fn}\", seed=seed)\n",
    "    "
   ]
  },
  {
   "cell_type": "markdown",
   "metadata": {},
   "source": [
    "# Benchmarking with divergence 1%"
   ]
  },
  {
   "cell_type": "code",
   "execution_count": 7,
   "metadata": {},
   "outputs": [],
   "source": [
    "simulations_dir = \\\n",
    "\"../data/simulations/sim_m500_d1/\"\n",
    "\n",
    "reference_tandem_repeat_fn = \\\n",
    "os.path.join(simulations_dir, 'tandem_repeat.fasta')"
   ]
  },
  {
   "cell_type": "code",
   "execution_count": 8,
   "metadata": {},
   "outputs": [
    {
     "name": "stdout",
     "output_type": "stream",
     "text": [
      "full_tr_len = 1027000\r\n",
      "total_n_mut = 10390\r\n"
     ]
    }
   ],
   "source": [
    "! head -n 2 {simulations_dir}/simulation.log"
   ]
  },
  {
   "cell_type": "code",
   "execution_count": 9,
   "metadata": {},
   "outputs": [],
   "source": [
    "reference_tandem_repeat = read_bio_seq(reference_tandem_repeat_fn)"
   ]
  },
  {
   "cell_type": "code",
   "execution_count": 10,
   "metadata": {},
   "outputs": [],
   "source": [
    "def get_all_kmers(seq, k=19):\n",
    "    all_kmers = defaultdict(int)\n",
    "    for i in range(len(seq) - k + 1):\n",
    "        kmer = seq[i:i+k]\n",
    "        all_kmers[kmer] += 1\n",
    "    return all_kmers"
   ]
  },
  {
   "cell_type": "code",
   "execution_count": 11,
   "metadata": {},
   "outputs": [],
   "source": [
    "ref_kmers = get_all_kmers(reference_tandem_repeat)\n",
    "unique_ref_kmers  = set([k for k in ref_kmers if ref_kmers[k] == 1])"
   ]
  },
  {
   "cell_type": "markdown",
   "metadata": {},
   "source": [
    "#unique kmers in reference"
   ]
  },
  {
   "cell_type": "code",
   "execution_count": 12,
   "metadata": {},
   "outputs": [
    {
     "data": {
      "text/plain": [
       "52738"
      ]
     },
     "execution_count": 12,
     "metadata": {},
     "output_type": "execute_result"
    }
   ],
   "source": [
    "len(unique_ref_kmers)"
   ]
  },
  {
   "cell_type": "markdown",
   "metadata": {},
   "source": [
    "# Simulated reads"
   ]
  },
  {
   "cell_type": "code",
   "execution_count": 13,
   "metadata": {},
   "outputs": [
    {
     "name": "stdout",
     "output_type": "stream",
     "text": [
      "1150\r\n"
     ]
    }
   ],
   "source": [
    "! grep -c \"_unaligned\" {simulations_dir}/nanosim/simulated_reads.fasta"
   ]
  },
  {
   "cell_type": "code",
   "execution_count": 14,
   "metadata": {},
   "outputs": [
    {
     "name": "stdout",
     "output_type": "stream",
     "text": [
      "1850\r\n"
     ]
    }
   ],
   "source": [
    "! grep -c \"_aligned\" {simulations_dir}/nanosim/simulated_reads.fasta"
   ]
  },
  {
   "cell_type": "code",
   "execution_count": 15,
   "metadata": {},
   "outputs": [],
   "source": [
    "reads = read_bio_seqs(os.path.join(simulations_dir, 'nanosim', 'simulated_reads.fasta'))"
   ]
  },
  {
   "cell_type": "code",
   "execution_count": 16,
   "metadata": {},
   "outputs": [],
   "source": [
    "total_length_aligned_reads = sum(int(r_id.split('_')[6]) for r_id, read in reads.items() if '_aligned' in r_id)"
   ]
  },
  {
   "cell_type": "code",
   "execution_count": 17,
   "metadata": {},
   "outputs": [
    {
     "data": {
      "text/plain": [
       "60796193"
      ]
     },
     "execution_count": 17,
     "metadata": {},
     "output_type": "execute_result"
    }
   ],
   "source": [
    "total_length_aligned_reads"
   ]
  },
  {
   "cell_type": "code",
   "execution_count": 18,
   "metadata": {},
   "outputs": [
    {
     "name": "stdout",
     "output_type": "stream",
     "text": [
      "42.604199719691664\n",
      "43\n"
     ]
    },
    {
     "data": {
      "text/plain": [
       "(None, None)"
      ]
     },
     "execution_count": 18,
     "metadata": {},
     "output_type": "execute_result"
    }
   ],
   "source": [
    "coverage = total_length_aligned_reads / (len(reference_tandem_repeat) + 400000)\n",
    "print(coverage), print(round(coverage))"
   ]
  },
  {
   "cell_type": "code",
   "execution_count": 19,
   "metadata": {},
   "outputs": [],
   "source": [
    "ncrf_report_fn = os.path.join(simulations_dir, 'nanosim', 'NCRF', 'report.ncrf')"
   ]
  },
  {
   "cell_type": "code",
   "execution_count": 20,
   "metadata": {},
   "outputs": [
    {
     "name": "stdout",
     "output_type": "stream",
     "text": [
      "1380\r\n"
     ]
    }
   ],
   "source": [
    "! grep \"flanked\" {ncrf_report_fn} | cut -d ' ' -f 1 | sort | uniq | wc -l"
   ]
  },
  {
   "cell_type": "code",
   "execution_count": 21,
   "metadata": {},
   "outputs": [],
   "source": [
    "ncrf_reads_report = NCRF_Report(ncrf_report_fn)"
   ]
  },
  {
   "cell_type": "code",
   "execution_count": 22,
   "metadata": {},
   "outputs": [
    {
     "data": {
      "text/plain": [
       "1147"
      ]
     },
     "execution_count": 22,
     "metadata": {},
     "output_type": "execute_result"
    }
   ],
   "source": [
    "len(ncrf_reads_report.records)"
   ]
  },
  {
   "cell_type": "markdown",
   "metadata": {},
   "source": [
    "# Unique 19-mers"
   ]
  },
  {
   "cell_type": "code",
   "execution_count": 23,
   "metadata": {},
   "outputs": [],
   "source": [
    "all_kmers = get_kmer_freqs_from_ncrf_report(ncrf_reads_report, k=19,verbose=False,max_nonuniq=3)"
   ]
  },
  {
   "cell_type": "code",
   "execution_count": 24,
   "metadata": {},
   "outputs": [
    {
     "data": {
      "text/plain": [
       "16949930"
      ]
     },
     "execution_count": 24,
     "metadata": {},
     "output_type": "execute_result"
    }
   ],
   "source": [
    "len(all_kmers)"
   ]
  },
  {
   "cell_type": "code",
   "execution_count": 25,
   "metadata": {},
   "outputs": [],
   "source": [
    "coverage = round(coverage)\n",
    "bottom, top = 0.9, 3\n",
    "mean_survival_rate=0.34\n",
    "filtered_kmers = {kmer: v for kmer, v in all_kmers.items() \\\n",
    "                  if bottom*coverage*mean_survival_rate <= v <= top*coverage*mean_survival_rate}"
   ]
  },
  {
   "cell_type": "code",
   "execution_count": 26,
   "metadata": {},
   "outputs": [
    {
     "data": {
      "text/plain": [
       "140780"
      ]
     },
     "execution_count": 26,
     "metadata": {},
     "output_type": "execute_result"
    }
   ],
   "source": [
    "len(filtered_kmers)"
   ]
  },
  {
   "cell_type": "code",
   "execution_count": 27,
   "metadata": {},
   "outputs": [],
   "source": [
    "recruited_unique_kmers_fn = \\\n",
    "    os.path.join(simulations_dir, 'nanosim', 'recruited_unique_kmers_k19', 'unique_kmers_min_edge_cov_4.txt')"
   ]
  },
  {
   "cell_type": "code",
   "execution_count": 28,
   "metadata": {},
   "outputs": [],
   "source": [
    "recruited_unique_kmers = get_kmers(recruited_unique_kmers_fn)"
   ]
  },
  {
   "cell_type": "code",
   "execution_count": 29,
   "metadata": {},
   "outputs": [
    {
     "data": {
      "text/plain": [
       "34717"
      ]
     },
     "execution_count": 29,
     "metadata": {},
     "output_type": "execute_result"
    }
   ],
   "source": [
    "len(recruited_unique_kmers)"
   ]
  },
  {
   "cell_type": "code",
   "execution_count": 30,
   "metadata": {},
   "outputs": [
    {
     "data": {
      "text/plain": [
       "31927"
      ]
     },
     "execution_count": 30,
     "metadata": {},
     "output_type": "execute_result"
    }
   ],
   "source": [
    "len(recruited_unique_kmers & unique_ref_kmers)"
   ]
  },
  {
   "cell_type": "code",
   "execution_count": 31,
   "metadata": {},
   "outputs": [
    {
     "data": {
      "text/plain": [
       "2790"
      ]
     },
     "execution_count": 31,
     "metadata": {},
     "output_type": "execute_result"
    }
   ],
   "source": [
    "erroneously_recruited_kmers = recruited_unique_kmers - unique_ref_kmers\n",
    "len(erroneously_recruited_kmers)"
   ]
  },
  {
   "cell_type": "code",
   "execution_count": 32,
   "metadata": {},
   "outputs": [
    {
     "data": {
      "text/plain": [
       "Counter({0: 1547, 2: 1242, 3: 1})"
      ]
     },
     "execution_count": 32,
     "metadata": {},
     "output_type": "execute_result"
    }
   ],
   "source": [
    "Counter([ref_kmers[kmer] for kmer in erroneously_recruited_kmers])"
   ]
  },
  {
   "cell_type": "markdown",
   "metadata": {},
   "source": [
    "# Reconstructed sequence"
   ]
  },
  {
   "cell_type": "code",
   "execution_count": 33,
   "metadata": {},
   "outputs": [],
   "source": [
    "ncrf_reads_fn = \\\n",
    "os.path.join(simulations_dir, 'nanosim', 'NCRF', 'report.ncrf')\n",
    "ncrf_reads = NCRF_Report(ncrf_reads_fn)"
   ]
  },
  {
   "cell_type": "code",
   "execution_count": 34,
   "metadata": {},
   "outputs": [
    {
     "data": {
      "text/plain": [
       "(13, 1127, 7)"
      ]
     },
     "execution_count": 34,
     "metadata": {},
     "output_type": "execute_result"
    }
   ],
   "source": [
    "prefix_reads, internal_reads, suffix_reads = ncrf_reads.classify()\n",
    "len(prefix_reads), len(internal_reads), len(suffix_reads)"
   ]
  },
  {
   "cell_type": "code",
   "execution_count": 35,
   "metadata": {},
   "outputs": [
    {
     "name": "stdout",
     "output_type": "stream",
     "text": [
      "1\r\n"
     ]
    }
   ],
   "source": [
    "!grep -c \"None\" {simulations_dir}/nanosim/tr_resolution/read_positions.csv"
   ]
  },
  {
   "cell_type": "code",
   "execution_count": 36,
   "metadata": {},
   "outputs": [
    {
     "name": "stdout",
     "output_type": "stream",
     "text": [
      "Using NW alignment mode.\n",
      "Reading queries...\n",
      "Read 1 queries, 1027000 residues total.\n",
      "Reading target fasta file...\n",
      "Read target, 1024904 residues.\n",
      "\n",
      "Comparing queries to target...\n",
      "1/1\n",
      "Scores:\n",
      "<query number>: <score>, <num_locations>, [(<start_location_in_target>, <end_location_in_target>)]\n",
      "#0: 7281  1  [ (0, 1024903) ]\n",
      "\n",
      "Cpu time of searching: 0.408573\n"
     ]
    }
   ],
   "source": [
    "!edlib-aligner -l {simulations_dir}/tandem_repeat.fasta {simulations_dir}/nanosim/polishing/final_sequence_4.fasta\n",
    "\n"
   ]
  }
 ],
 "metadata": {
  "kernelspec": {
   "display_name": "Python 3",
   "language": "python",
   "name": "python3"
  },
  "language_info": {
   "codemirror_mode": {
    "name": "ipython",
    "version": 3
   },
   "file_extension": ".py",
   "mimetype": "text/x-python",
   "name": "python",
   "nbconvert_exporter": "python",
   "pygments_lexer": "ipython3",
   "version": "3.6.7"
  }
 },
 "nbformat": 4,
 "nbformat_minor": 2
}
