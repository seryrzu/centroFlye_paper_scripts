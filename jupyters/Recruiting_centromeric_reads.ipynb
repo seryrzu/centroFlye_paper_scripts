{
 "cells": [
  {
   "cell_type": "code",
   "execution_count": 1,
   "metadata": {},
   "outputs": [],
   "source": [
    "import sys\n",
    "sys.path.append('../centroFlye_repo/scripts')\n",
    "\n",
    "import os\n",
    "import pandas as pd\n",
    "import numpy as np\n",
    "\n",
    "from utils.bio import read_bio_seq"
   ]
  },
  {
   "cell_type": "markdown",
   "metadata": {},
   "source": [
    "# External data"
   ]
  },
  {
   "cell_type": "code",
   "execution_count": 2,
   "metadata": {},
   "outputs": [],
   "source": [
    "centromeric_reads_dir = \"../data/centroFlye_results/centromeric_reads\"\n",
    "\n",
    "! faidx {centromeric_reads_dir}/centromeric_reads.fasta > /dev/null"
   ]
  },
  {
   "cell_type": "code",
   "execution_count": 3,
   "metadata": {},
   "outputs": [],
   "source": [
    "centromeric_reads_index_fn = \\\n",
    "    os.path.join(centromeric_reads_dir, 'centromeric_reads.fasta.fai')\n",
    "centromeric_reads_index = pd.read_csv(centromeric_reads_index_fn,\n",
    "                                     sep='\\t',\n",
    "                                     names=[\"NAME\", \"LENGTH\", \"OFFSET\", \"LINEBASES\", \"LINEWIDTH\", \"QUALOFFSET\"])"
   ]
  },
  {
   "cell_type": "code",
   "execution_count": 4,
   "metadata": {},
   "outputs": [],
   "source": [
    "dxz1_fn = \"../data/DXZ1/DXZ1_rc.fasta\"\n",
    "dxz1 = read_bio_seq(dxz1_fn)"
   ]
  },
  {
   "cell_type": "markdown",
   "metadata": {},
   "source": [
    "# Various numbers from the text"
   ]
  },
  {
   "cell_type": "markdown",
   "metadata": {},
   "source": [
    "Total number of centromeric reads"
   ]
  },
  {
   "cell_type": "code",
   "execution_count": 5,
   "metadata": {
    "scrolled": true
   },
   "outputs": [
    {
     "data": {
      "text/plain": [
       "2680"
      ]
     },
     "execution_count": 5,
     "metadata": {},
     "output_type": "execute_result"
    }
   ],
   "source": [
    "nreads = centromeric_reads_index.shape[0]\n",
    "nreads"
   ]
  },
  {
   "cell_type": "markdown",
   "metadata": {},
   "source": [
    "Total length of centromeric reads"
   ]
  },
  {
   "cell_type": "code",
   "execution_count": 6,
   "metadata": {},
   "outputs": [
    {
     "data": {
      "text/plain": [
       "132995816"
      ]
     },
     "execution_count": 6,
     "metadata": {},
     "output_type": "execute_result"
    }
   ],
   "source": [
    "np.sum(centromeric_reads_index.LENGTH)"
   ]
  },
  {
   "cell_type": "markdown",
   "metadata": {},
   "source": [
    "Percent identity used as a threshold for alignment"
   ]
  },
  {
   "cell_type": "code",
   "execution_count": 7,
   "metadata": {},
   "outputs": [
    {
     "data": {
      "text/plain": [
       "0.829683698296837"
      ]
     },
     "execution_count": 7,
     "metadata": {},
     "output_type": "execute_result"
    }
   ],
   "source": [
    "edlib_threshold = 350\n",
    "\n",
    "perc_identity = 1 - edlib_threshold / len(dxz1)\n",
    "perc_identity"
   ]
  },
  {
   "cell_type": "markdown",
   "metadata": {},
   "source": [
    "Number of reads with length 2-5kb, >30kb, >50kb (ultralong)"
   ]
  },
  {
   "cell_type": "code",
   "execution_count": 8,
   "metadata": {},
   "outputs": [
    {
     "name": "stdout",
     "output_type": "stream",
     "text": [
      "2 152 1382 897\n"
     ]
    }
   ],
   "source": [
    "tiny_len = 2055\n",
    "short_len = 5000\n",
    "middle_len = 30000\n",
    "long_len = 50000\n",
    "\n",
    "ntiny = np.sum(centromeric_reads_index.LENGTH < tiny_len)\n",
    "nshort = np.sum(centromeric_reads_index.LENGTH < short_len)\n",
    "nmiddle = np.sum(centromeric_reads_index.LENGTH > middle_len)\n",
    "nlong = np.sum(centromeric_reads_index.LENGTH > long_len)\n",
    "\n",
    "longest_len = np.max(centromeric_reads_index.LENGTH)\n",
    "print(ntiny, nshort, nmiddle, nlong)"
   ]
  }
 ],
 "metadata": {
  "kernelspec": {
   "display_name": "Python 3",
   "language": "python",
   "name": "python3"
  },
  "language_info": {
   "codemirror_mode": {
    "name": "ipython",
    "version": 3
   },
   "file_extension": ".py",
   "mimetype": "text/x-python",
   "name": "python",
   "nbconvert_exporter": "python",
   "pygments_lexer": "ipython3",
   "version": "3.6.7"
  }
 },
 "nbformat": 4,
 "nbformat_minor": 2
}
